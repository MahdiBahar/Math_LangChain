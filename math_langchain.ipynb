{
 "cells": [
  {
   "cell_type": "code",
   "execution_count": 1,
   "metadata": {},
   "outputs": [],
   "source": [
    "from IPython.core.display import HTML"
   ]
  },
  {
   "cell_type": "code",
   "execution_count": 2,
   "metadata": {},
   "outputs": [
    {
     "name": "stderr",
     "output_type": "stream",
     "text": [
      "/tmp/ipykernel_297160/4093896791.py:4: LangChainDeprecationWarning: The class `Ollama` was deprecated in LangChain 0.3.1 and will be removed in 1.0.0. An updated version of the class exists in the :class:`~langchain-ollama package and should be used instead. To use it run `pip install -U :class:`~langchain-ollama` and import as `from :class:`~langchain_ollama import OllamaLLM``.\n",
      "  llm = Ollama(model=\"phi4:latest\", base_url=\"http://127.0.0.1:11434\")\n"
     ]
    }
   ],
   "source": [
    "from langchain_community.llms import Ollama\n",
    "\n",
    "# Specify the remote server's URL\n",
    "llm = Ollama(model=\"phi4:latest\", base_url=\"http://127.0.0.1:11434\")"
   ]
  },
  {
   "cell_type": "code",
   "execution_count": 3,
   "metadata": {},
   "outputs": [
    {
     "data": {
      "text/plain": [
       "'Hello! How can I assist you today? If you have any questions or need information, feel free to ask. 😊'"
      ]
     },
     "execution_count": 3,
     "metadata": {},
     "output_type": "execute_result"
    }
   ],
   "source": [
    "llm.invoke('hi')"
   ]
  },
  {
   "cell_type": "code",
   "execution_count": 4,
   "metadata": {},
   "outputs": [
    {
     "data": {
      "text/plain": [
       "'سلام! من عالی هستم، تشکر که سوال پرسیدید. اگر چیزی داشته باشید به کمک باید یا سوالی دارید، حتماً مطمئن شوید درباره آن بپرسید!'"
      ]
     },
     "execution_count": 4,
     "metadata": {},
     "output_type": "execute_result"
    }
   ],
   "source": [
    "llm.invoke('سلام. خوبی؟')"
   ]
  },
  {
   "cell_type": "code",
   "execution_count": 5,
   "metadata": {},
   "outputs": [],
   "source": [
    "from langchain.chains import LLMMathChain\n",
    "\n",
    "llm_math = LLMMathChain.from_llm(llm, verbose=True)"
   ]
  },
  {
   "cell_type": "code",
   "execution_count": 6,
   "metadata": {},
   "outputs": [
    {
     "data": {
      "text/plain": [
       "'Translate a math problem into a expression that can be executed using Python\\'s numexpr library. Use the output of running this code to answer the question.\\n\\nQuestion: ${{Question with math problem.}}\\n```text\\n${{single line mathematical expression that solves the problem}}\\n```\\n...numexpr.evaluate(text)...\\n```output\\n${{Output of running the code}}\\n```\\nAnswer: ${{Answer}}\\n\\nBegin.\\n\\nQuestion: What is 37593 * 67?\\n```text\\n37593 * 67\\n```\\n...numexpr.evaluate(\"37593 * 67\")...\\n```output\\n2518731\\n```\\nAnswer: 2518731\\n\\nQuestion: 37593^(1/5)\\n```text\\n37593**(1/5)\\n```\\n...numexpr.evaluate(\"37593**(1/5)\")...\\n```output\\n8.222831614237718\\n```\\nAnswer: 8.222831614237718\\n\\nQuestion: {question}\\n'"
      ]
     },
     "execution_count": 6,
     "metadata": {},
     "output_type": "execute_result"
    }
   ],
   "source": [
    "llm_math.prompt.template"
   ]
  },
  {
   "cell_type": "code",
   "execution_count": 1,
   "metadata": {},
   "outputs": [],
   "source": [
    "# llm_math.run(\"what is 13 raised to the .3432 power?\")"
   ]
  },
  {
   "cell_type": "code",
   "execution_count": 3,
   "metadata": {},
   "outputs": [],
   "source": [
    "# i = 0\n",
    "# example_query = \"What is 551368 divided by 82\"\n",
    "# llm_math.invoke(example_query)"
   ]
  },
  {
   "cell_type": "code",
   "execution_count": 3,
   "metadata": {},
   "outputs": [
    {
     "name": "stderr",
     "output_type": "stream",
     "text": [
      "/home/mahdi/Math_LangChain/.venv/lib/python3.12/site-packages/langchain/chains/llm_math/base.py:175: UserWarning: Directly instantiating an LLMMathChain with an llm is deprecated. Please instantiate with llm_chain argument or using the from_llm class method.\n",
      "  warnings.warn(\n"
     ]
    },
    {
     "name": "stdout",
     "output_type": "stream",
     "text": [
      "\n",
      "\n",
      "\u001b[1m> Entering new LLMMathChain chain...\u001b[0m\n",
      "What is 551368 divided by 82?\u001b[32;1m\u001b[1;3mAnswer: 6724.39\u001b[0m\n",
      "\u001b[1m> Finished chain.\u001b[0m\n",
      "{'question': 'What is 551368 divided by 82?', 'answer': 'Answer: 6724.39'}\n"
     ]
    }
   ],
   "source": [
    "from langchain.chains import LLMMathChain\n",
    "from langchain.llms import Ollama\n",
    "from langchain.prompts import PromptTemplate\n",
    "\n",
    "# Create a custom prompt template to enforce the expected output.\n",
    "custom_prompt = PromptTemplate(\n",
    "    input_variables=[\"question\"],\n",
    "    template=(\n",
    "        \"You are a expert math solver. Solve the problem below and output only the final answer in the exact format:\\n\"\n",
    "        \"Answer: <result>\\n\\n\"\n",
    "        \"Do not include any explanation, commentary, or extra text.\\n\\n\"\n",
    "        \"Round the result with 2. For example,if the result is 5.6666666, make the result 5.66.\\n\\n\"\n",
    "        \"Problem: {question}\"\n",
    "    )\n",
    ")\n",
    "\n",
    "\n",
    "# custom_prompt = PromptTemplate(\n",
    "#     input_variables=[\"question\"],\n",
    "#     template=(\n",
    "#         \"You are an expert math solver. Solve the following problem using exact arithmetic. \"\n",
    "#         \"Only output the final answer in the exact format 'Answer: <result>' with no additional text.\\n\\n\"\n",
    "#         \"Problem: {question}\"\n",
    "#     )\n",
    "# )\n",
    "\n",
    "\n",
    "\n",
    "\n",
    "# Use your local Ollama model.\n",
    "llm = Ollama(model=\"phi4:latest\", base_url=\"http://127.0.0.1:11434\", temperature = 0)\n",
    "\n",
    "# Instantiate the math chain with the custom prompt.\n",
    "math_chain = LLMMathChain(llm=llm, prompt=custom_prompt, verbose = True)\n",
    "\n",
    "# Run the chain with the math problem.\n",
    "result = math_chain.invoke(\"What is 551368 divided by 82?\")\n",
    "# result = math_chain.invoke(\"What is 551121 divided by 82?\")\n",
    "# result = math_chain.invoke(\"What is (12 plus 18 minus 10) devide by 3?\")\n",
    "print(result)  # Expected output: Answer: 6724\n"
   ]
  },
  {
   "cell_type": "code",
   "execution_count": 9,
   "metadata": {},
   "outputs": [
    {
     "name": "stdout",
     "output_type": "stream",
     "text": [
      "LLMMathChain input keys: ['question']\n"
     ]
    }
   ],
   "source": [
    "print(\"LLMMathChain input keys:\", llm_math.input_keys)\n"
   ]
  },
  {
   "cell_type": "code",
   "execution_count": 11,
   "metadata": {},
   "outputs": [
    {
     "name": "stdout",
     "output_type": "stream",
     "text": [
      "Computed numeric result: 6724.0\n"
     ]
    }
   ],
   "source": [
    "import numexpr as ne\n",
    "computed_result = ne.evaluate(\"551368 / 82\")\n",
    "print(\"Computed numeric result:\", computed_result)\n"
   ]
  },
  {
   "cell_type": "markdown",
   "metadata": {},
   "source": [
    "## understand which formula is needed"
   ]
  },
  {
   "cell_type": "markdown",
   "metadata": {},
   "source": [
    "<h3>Using Router is a common and effective pattern in LangChain for handling multi-step workflows.</h3> \n",
    "\n",
    "<p>Using a router chain that outputs a structured dictionary—typically with keys like \"destination\" (to select the appropriate chain) and \"next_inputs\" (to pass along additional context or parameters)—helps separate the decision logic from the execution logic.</p>\n",
    "\n",
    "\n",
    "\n",
    "<h3>Here’s why this approach is beneficial:</h3>\n",
    "<ul>\n",
    "    <li><strong>Modularity: </strong> It decouples the routing logic from the individual chain implementations, allowing each chain to focus on its specific task.</li>\n",
    "    <li><strong>Scalability: </strong> You can easily add or modify destination chains without changing the overall structure.</li>\n",
    "    <li><strong>Clarity: </strong> The structured output makes it explicit which chain is being selected and what inputs will be passed along, which is useful for debugging and maintenance.</li>\n",
    "</ul>\n",
    "\n",
    "\n",
    "<p>This pattern is often recommended in LangChain examples and documentation for multi-step reasoning tasks.</p>"
   ]
  },
  {
   "cell_type": "markdown",
   "metadata": {},
   "source": [
    "### Define LLM"
   ]
  },
  {
   "cell_type": "code",
   "execution_count": 2,
   "metadata": {},
   "outputs": [
    {
     "name": "stderr",
     "output_type": "stream",
     "text": [
      "/tmp/ipykernel_113603/4093896791.py:4: LangChainDeprecationWarning: The class `Ollama` was deprecated in LangChain 0.3.1 and will be removed in 1.0.0. An updated version of the class exists in the :class:`~langchain-ollama package and should be used instead. To use it run `pip install -U :class:`~langchain-ollama` and import as `from :class:`~langchain_ollama import OllamaLLM``.\n",
      "  llm = Ollama(model=\"phi4:latest\", base_url=\"http://127.0.0.1:11434\")\n"
     ]
    }
   ],
   "source": [
    "from langchain_community.llms import Ollama\n",
    "\n",
    "# Specify the remote server's URL\n",
    "llm = Ollama(model=\"phi4:latest\", base_url=\"http://127.0.0.1:11434\")"
   ]
  },
  {
   "cell_type": "markdown",
   "metadata": {},
   "source": [
    "### Input Libraries"
   ]
  },
  {
   "cell_type": "code",
   "execution_count": 3,
   "metadata": {},
   "outputs": [],
   "source": [
    "import json\n",
    "import re\n",
    "from langchain.schema import BaseOutputParser\n",
    "from langchain.chains.router.llm_router import LLMRouterChain\n",
    "from langchain.chains import LLMChain\n",
    "from langchain.prompts import PromptTemplate\n",
    "\n"
   ]
  },
  {
   "cell_type": "markdown",
   "metadata": {},
   "source": [
    "### Define Output Parser for Router_Prompt"
   ]
  },
  {
   "cell_type": "code",
   "execution_count": 3,
   "metadata": {},
   "outputs": [],
   "source": [
    "# Custom Output Parser Definition\n",
    "\n",
    "def clean_keys(d: dict) -> dict:\n",
    "    new_d = {}\n",
    "    for key, value in d.items():\n",
    "        new_key = key.strip()\n",
    "        if new_key.startswith('\"') and new_key.endswith('\"'):\n",
    "            new_key = new_key[1:-1]\n",
    "        if isinstance(value, dict):\n",
    "            new_d[new_key] = clean_keys(value)\n",
    "        else:\n",
    "            new_d[new_key] = value\n",
    "    return new_d\n",
    "\n",
    "class CustomRouterOutputParser(BaseOutputParser):\n",
    "    def parse(self, text: str) -> dict:\n",
    "        # Extract the first JSON object from the text\n",
    "        match = re.search(r\"(\\{.*\\})\", text, re.DOTALL)\n",
    "        if not match:\n",
    "            raise ValueError(\"No JSON object found in text.\")\n",
    "        json_str = match.group(1)\n",
    "        try:\n",
    "            result = json.loads(json_str)\n",
    "        except json.JSONDecodeError as e:\n",
    "            raise ValueError(f\"Error decoding JSON: {json_str}\") from e\n",
    "        # Clean the keys to remove any extra quotes\n",
    "        result = clean_keys(result)\n",
    "        # Validate required keys\n",
    "        if \"destination\" not in result:\n",
    "            raise ValueError(\"Output JSON is missing the 'destination' key.\")\n",
    "        if \"next_inputs\" not in result:\n",
    "            raise ValueError(\"Output JSON is missing the 'next_inputs' key.\")\n",
    "        if not isinstance(result[\"next_inputs\"], dict):\n",
    "            raise ValueError(\"The 'next_inputs' key must be a dictionary.\")\n",
    "        if \"question\" not in result[\"next_inputs\"]:\n",
    "            raise ValueError(\"The 'next_inputs' dictionary must include the 'question' key.\")\n",
    "        return result\n",
    "\n",
    "    @property\n",
    "    def _type(self) -> str:\n",
    "        return \"custom_router_output_parser\"\n",
    "\n",
    "# Instantiate the custom output parser\n",
    "router_output_parser = CustomRouterOutputParser()"
   ]
  },
  {
   "cell_type": "markdown",
   "metadata": {},
   "source": [
    "### Routing Logic and Formula Chain"
   ]
  },
  {
   "cell_type": "code",
   "execution_count": 4,
   "metadata": {},
   "outputs": [],
   "source": [
    "\n",
    "# Router Prompt: Including new formulas\n",
    "\n",
    "router_prompt = PromptTemplate(\n",
    "    input_variables=[\"question\"],\n",
    "    template=(\n",
    "        \"You are a routing assistant. Given the following question, decide which formula chain to use and return a valid JSON object with exactly two keys:\\n\"\n",
    "        \"1. destination: one of 'score_calculation', 'interest_calculation', or 'loan_calculation'.\\n\"\n",
    "        \"   - Use 'score_calculation' for questions about calculating customer score. \\n\"\n",
    "        \"   - Use 'interest_calculation' for questions about calculating deposit interest. \\n\"\n",
    "        \"   - Use 'loan_calculation' for questions about calculating remaining money for loans.\\n\"\n",
    "        \"2. next_inputs: a dictionary that includes the key 'question' mapping to the original question text.\\n\"\n",
    "        \"For example, if the question is 'How do I calculate the customer score?', return:\\n\"\n",
    "        \"{{\\\"destination\\\": \\\"score_calculation\\\", \\\"next_inputs\\\": {{\\\"question\\\": \\\"How do I calculate the customer score?\\\"}}}}\\n\"\n",
    "        \"Now, answer for the question: {question}\"\n",
    "    ),\n",
    "    output_parser=router_output_parser\n",
    ")\n"
   ]
  },
  {
   "cell_type": "markdown",
   "metadata": {},
   "source": [
    "### Formula Chain --> Core of Calculations"
   ]
  },
  {
   "cell_type": "code",
   "execution_count": 18,
   "metadata": {},
   "outputs": [],
   "source": [
    "\n",
    "# Create Formula Chains for Each Task/Formula\n",
    "\n",
    "\n",
    "# Formula 1: Customer Score Calculation\n",
    "score_calculation_prompt = PromptTemplate(\n",
    "    input_variables=[\"question\"],\n",
    "    template=(\n",
    "        \"Customer Score Calculation:\\n\"\n",
    "        \"For the question: {question}, calculate the customer's score using the formula:\\n\"\n",
    "        \"    score = log((years_in_bank)^3) / age\\n\"\n",
    "        \"where 'years_in_bank' is the number of years the customer has had an account in our bank, and 'age' is the customer's age.\\n\"\n",
    "        \n",
    "    )\n",
    ")\n",
    "score_calculation_chain = LLMChain(llm=llm, prompt=score_calculation_prompt, verbose=True)\n",
    "\n",
    "# Formula 2: Deposit Interest Calculation\n",
    "interest_calculation_prompt = PromptTemplate(\n",
    "    input_variables=[\"question\"],\n",
    "    template=(\n",
    "        \"Deposit Interest Calculation:\\n\"\n",
    "        \"For the question: {question}, calculate the deposit interest using the formula:\\n\"\n",
    "        \"    interest = ((deposit_amount * months) / 12) * 0.25\\n\"\n",
    "        \"where 'deposit_amount' is the amount of money deposited and 'months' is the number of months the money has been deposited.\\n\"\n",
    "        \"Provide only the arithmetic expression that calculates the interest.\\n\"\n",
    "        \"For example, if deposit_amount=2000000 and months=9, output something like: ((2000000 * 9)/12)*0.25\"\n",
    "    )\n",
    ")\n",
    "interest_calculation_chain = LLMChain(llm=llm, prompt=interest_calculation_prompt, verbose=True)\n",
    "\n",
    "# Formula 3: Loan Calculation Chain (unchanged)\n",
    "loan_calculation_prompt = PromptTemplate(\n",
    "    input_variables=[\"question\"],\n",
    "    template=(\n",
    "        \"Loan Calculation Expert:\\n\"\n",
    "        \"For the question: {question}, use the formula:\\n\"\n",
    "        \"    amount_to_pay = total_amount - (number_of_paid_loans * amount_per_loan)\\n\"\n",
    "        \"to calculate the amount of money required to pay all the loans.\\n\"\n",
    "        \n",
    "    )\n",
    ")\n",
    "loan_calculation_chain = LLMChain(llm=llm, prompt=loan_calculation_prompt, verbose=True)\n"
   ]
  },
  {
   "cell_type": "markdown",
   "metadata": {},
   "source": [
    "### Create Router Chain According to Router_Prompt and Destination_Chain"
   ]
  },
  {
   "cell_type": "code",
   "execution_count": 19,
   "metadata": {},
   "outputs": [],
   "source": [
    "# Create the Router Chain with the Three Destination Chains\n",
    "\n",
    "destination_chains = {\n",
    "    \"score_calculation\": score_calculation_chain,\n",
    "    \"interest_calculation\": interest_calculation_chain,\n",
    "    \"loan_calculation\": loan_calculation_chain,\n",
    "}\n",
    "\n",
    "router_chain = LLMRouterChain.from_llm(\n",
    "    llm=llm,\n",
    "    prompt=router_prompt,\n",
    "    destination_chains=destination_chains\n",
    ")"
   ]
  },
  {
   "cell_type": "markdown",
   "metadata": {},
   "source": [
    "### Examples"
   ]
  },
  {
   "cell_type": "code",
   "execution_count": 7,
   "metadata": {},
   "outputs": [
    {
     "name": "stderr",
     "output_type": "stream",
     "text": [
      "/tmp/ipykernel_7454/3651798248.py:6: LangChainDeprecationWarning: The method `Chain.__call__` was deprecated in langchain 0.1.0 and will be removed in 1.0. Use :meth:`~invoke` instead.\n",
      "  router_result1 = router_chain({\"question\": input_text1})\n"
     ]
    },
    {
     "name": "stdout",
     "output_type": "stream",
     "text": [
      "Router output for customer score: {'question': 'How do I calculate the customer score?', 'destination': 'score_calculation', 'next_inputs': {'question': 'How do I calculate the customer score?'}}\n",
      "\n",
      "\n",
      "\u001b[1m> Entering new LLMChain chain...\u001b[0m\n",
      "Prompt after formatting:\n",
      "\u001b[32;1m\u001b[1;3mCustomer Score Calculation:\n",
      "For the question: How do I calculate the customer score?, calculate the customer's score using the formula:\n",
      "    score = log((years_in_bank)^3) / age\n",
      "where 'years_in_bank' is the number of years the customer has had an account in our bank, and 'age' is the customer's age.\n",
      "Explain the calculation step by step.\u001b[0m\n",
      "\n",
      "\u001b[1m> Finished chain.\u001b[0m\n",
      "Final result from 'score_calculation': {'question': 'How do I calculate the customer score?', 'text': \"To calculate the customer score using the provided formula:\\n\\n\\\\[ \\\\text{score} = \\\\frac{\\\\log((\\\\text{years\\\\_in\\\\_bank})^3)}{\\\\text{age}} \\\\]\\n\\nwe will go through each step of the calculation process.\\n\\n### Step 1: Identify Variables\\n\\n- **Years in Bank**: This is the number of years the customer has had an account with your bank.\\n- **Age**: This is the customer's age.\\n\\nThese values need to be known before proceeding with the calculation.\\n\\n### Step 2: Calculate \\\\((\\\\text{years\\\\_in\\\\_bank})^3\\\\)\\n\\nFirst, take the number of years the customer has been in the bank and raise it to the power of three. This emphasizes longer relationships with the bank by exponentially increasing their impact on the score.\\n\\n\\\\[ (\\\\text{years\\\\_in\\\\_bank})^3 \\\\]\\n\\n### Step 3: Take the Logarithm\\n\\nNext, calculate the natural logarithm (base \\\\(e\\\\)) of the result from step 2. The logarithmic function is used here to scale down the potentially large numbers and ensure that the score grows more slowly as years in the bank increase.\\n\\n\\\\[ \\\\log((\\\\text{years\\\\_in\\\\_bank})^3) \\\\]\\n\\n### Step 4: Divide by Age\\n\\nFinally, divide the result from step 3 by the customer's age. This division adjusts for the fact that older customers naturally have had more time to accumulate banking years and ensures that younger customers with longer relationships are not unduly penalized.\\n\\n\\\\[ \\\\text{score} = \\\\frac{\\\\log((\\\\text{years\\\\_in\\\\_bank})^3)}{\\\\text{age}} \\\\]\\n\\n### Step 5: Interpret the Result\\n\\nThe resulting score is a metric reflecting both loyalty (as indicated by years in the bank) and age. A higher score suggests a strong relationship with the bank relative to the customer's age.\\n\\n### Example Calculation:\\n\\nLet's assume a customer has been with the bank for 10 years and is 40 years old.\\n\\n1. **Years in Bank**: 10\\n2. **Age**: 40\\n\\n- Calculate \\\\((\\\\text{years\\\\_in\\\\_bank})^3 = 10^3 = 1000\\\\)\\n- Take the logarithm: \\\\(\\\\log(1000) \\\\approx 6.9078\\\\) (using natural log)\\n- Divide by age: \\\\(\\\\frac{6.9078}{40} \\\\approx 0.1727\\\\)\\n\\nThe customer's score would be approximately \\\\(0.1727\\\\).\\n\\nThis step-by-step process allows you to consistently calculate the score for any given customer using their years in the bank and their age.\"}\n"
     ]
    }
   ],
   "source": [
    "# Example Usage: Testing Different Questions\n",
    "\n",
    "\n",
    "# 1. Customer Score Calculation Question (Formula 1)\n",
    "input_text1 = \"How do I calculate the customer score?\"\n",
    "router_result1 = router_chain({\"question\": input_text1})\n",
    "print(\"Router output for customer score:\", router_result1)\n",
    "destination1 = router_result1[\"destination\"]\n",
    "next_inputs1 = router_result1[\"next_inputs\"]\n",
    "if destination1 in destination_chains:\n",
    "    final_result1 = destination_chains[destination1](next_inputs1)\n",
    "    print(f\"Final result from '{destination1}':\", final_result1)\n",
    "else:\n",
    "    print(\"Destination not found:\", destination1)\n"
   ]
  },
  {
   "cell_type": "code",
   "execution_count": 8,
   "metadata": {},
   "outputs": [
    {
     "name": "stderr",
     "output_type": "stream",
     "text": [
      "/tmp/ipykernel_7293/1000696705.py:4: LangChainDeprecationWarning: The method `Chain.__call__` was deprecated in langchain 0.1.0 and will be removed in 1.0. Use :meth:`~invoke` instead.\n",
      "  router_result2 = router_chain({\"question\": input_text2})\n"
     ]
    },
    {
     "name": "stdout",
     "output_type": "stream",
     "text": [
      "Router output for deposit interest: {'question': 'من میخوام ببینم سود سپرده بانک اگه ۵۰۰ میلیون پول بخوابونم چقدره', 'destination': 'interest_calculation', 'next_inputs': {'question': 'من میخوام ببینم سود سپرده بانک اگه ۵۰۰ میلیون پول بخوابونم چقدره'}}\n",
      "destination2 interest_calculation\n",
      "next_input2 {'question': 'من میخوام ببینم سود سپرده بانک اگه ۵۰۰ میلیون پول بخوابونم چقدره'}\n",
      "\n",
      "\n",
      "\u001b[1m> Entering new LLMChain chain...\u001b[0m\n",
      "Prompt after formatting:\n",
      "\u001b[32;1m\u001b[1;3mDeposit Interest Calculation:\n",
      "For the question: من میخوام ببینم سود سپرده بانک اگه ۵۰۰ میلیون پول بخوابونم چقدره, calculate the deposit interest using the formula:\n",
      "    interest = ((deposit_amount * months) / 12) * 0.25\n",
      "where 'deposit_amount' is the amount of money deposited and 'months' is the number of months the money has been deposited.\n",
      "Explain the calculation step by step.\u001b[0m\n",
      "\n",
      "\u001b[1m> Finished chain.\u001b[0m\n",
      "destination_chain2 = verbose=True prompt=PromptTemplate(input_variables=['question'], input_types={}, partial_variables={}, template=\"Deposit Interest Calculation:\\nFor the question: {question}, calculate the deposit interest using the formula:\\n    interest = ((deposit_amount * months) / 12) * 0.25\\nwhere 'deposit_amount' is the amount of money deposited and 'months' is the number of months the money has been deposited.\\nExplain the calculation step by step.\") llm=Ollama(base_url='http://127.0.0.1:11434', model='phi4:latest') output_parser=StrOutputParser() llm_kwargs={}\n",
      "Final result from 'interest_calculation': {'question': 'من میخوام ببینم سود سپرده بانک اگه ۵۰۰ میلیون پول بخوابونم چقدره', 'text': 'To calculate the deposit interest using the given formula, let\\'s break it down step-by-step:\\n\\n### Formula:\\n\\\\[ \\\\text{interest} = \\\\left( \\\\frac{\\\\text{deposit\\\\_amount} \\\\times \\\\text{months}}{12} \\\\right) \\\\times 0.25 \\\\]\\n\\n### Given:\\n- **Deposit Amount**: 500 million (or 500,000,000)\\n- **Months**: Let\\'s assume a specific number of months for this calculation. For example, let\\'s use 12 months.\\n\\n### Steps:\\n\\n1. **Multiply the Deposit Amount by Months**:\\n   - Calculate \\\\( \\\\text{deposit\\\\_amount} \\\\times \\\\text{months} \\\\).\\n   - Example: \\\\( 500,000,000 \\\\times 12 = 6,000,000,000 \\\\).\\n\\n2. **Divide by 12 to Annualize**:\\n   - Divide the result from step 1 by 12 to convert it into an annual figure.\\n   - Example: \\\\( \\\\frac{6,000,000,000}{12} = 500,000,000 \\\\).\\n\\n3. **Apply the Interest Rate (25%)**:\\n   - Multiply the result from step 2 by 0.25 to find the interest earned over the period.\\n   - Example: \\\\( 500,000,000 \\\\times 0.25 = 125,000,000 \\\\).\\n\\n### Conclusion:\\nFor a deposit of 500 million over 12 months at an annual interest rate of 25%, the interest earned would be 125 million.\\n\\nIf you want to calculate for a different number of months, simply replace \"months\" with your desired value and follow the same steps.'}\n"
     ]
    }
   ],
   "source": [
    "# 2. Deposit Interest Calculation Question (Formula 2)\n",
    "# input_text2 = \"How do I calculate the deposit interest?\"\n",
    "input_text2 = \"من میخوام ببینم سود سپرده بانک اگه ۵۰۰ میلیون پول بخوابونم چقدره\"\n",
    "router_result2 = router_chain({\"question\": input_text2})\n",
    "print(\"Router output for deposit interest:\", router_result2)\n",
    "destination2 = router_result2[\"destination\"]\n",
    "print(f\"destination2 {destination2}\")\n",
    "next_inputs2 = router_result2[\"next_inputs\"]\n",
    "print(f\"next_input2 {next_inputs2}\")\n",
    "if destination2 in destination_chains:\n",
    "    final_result2 = destination_chains[destination2](next_inputs2)\n",
    "    print(f\"destination_chain2 = {destination_chains[destination2]}\")\n",
    "    print(f\"Final result from '{destination2}':\", final_result2)\n",
    "else:\n",
    "    print(\"Destination not found:\", destination2)"
   ]
  },
  {
   "cell_type": "code",
   "execution_count": 7,
   "metadata": {},
   "outputs": [
    {
     "name": "stderr",
     "output_type": "stream",
     "text": [
      "/tmp/ipykernel_395243/1638354673.py:4: LangChainDeprecationWarning: The method `Chain.__call__` was deprecated in langchain 0.1.0 and will be removed in 1.0. Use :meth:`~invoke` instead.\n",
      "  router_result3 = router_chain({\"question\": input_text3})\n"
     ]
    },
    {
     "name": "stdout",
     "output_type": "stream",
     "text": [
      "Router output for loan calculation: {'question': 'How was the weather testerday?', 'destination': None, 'next_inputs': {'question': 'How was the weather yesterday?'}}\n",
      "Destination not found: None\n"
     ]
    }
   ],
   "source": [
    "# 3. Loan Calculation Question (Loan Calculation)\n",
    "# input_text3 = \"How much money should I pay to pay all my loans to the bank?\"\n",
    "input_text3 = \"How was the weather testerday?\"\n",
    "router_result3 = router_chain({\"question\": input_text3})\n",
    "print(\"Router output for loan calculation:\", router_result3)\n",
    "destination3 = router_result3[\"destination\"]\n",
    "next_inputs3 = router_result3[\"next_inputs\"]\n",
    "if destination3 in destination_chains:\n",
    "    final_result3 = destination_chains[destination3](next_inputs3)\n",
    "    print(f\"Final result from '{destination3}':\", final_result3)\n",
    "else:\n",
    "    print(\"Destination not found:\", destination3)"
   ]
  },
  {
   "cell_type": "markdown",
   "metadata": {},
   "source": [
    "### Try to use python codes instead of mathchain to solve mathematics part"
   ]
  },
  {
   "cell_type": "markdown",
   "metadata": {},
   "source": [
    "#### Consider to get missing parameters"
   ]
  },
  {
   "cell_type": "code",
   "execution_count": null,
   "metadata": {},
   "outputs": [],
   "source": [
    "import re\n",
    "\n",
    "# Define the formula as a string.\n",
    "formula_str = \"((deposit_amount * months) / 12) * 0.25\"\n",
    "\n",
    "def extract_interest_parameters(question: str) -> dict:\n",
    "    \"\"\"\n",
    "    Extract numeric values from the question for interest calculation.\n",
    "    This function uses regex to find all numbers in the text.\n",
    "    \n",
    "    For example:\n",
    "      \"من میخوام ببینم سود سپرده بانک اگه 500000000 پول بخوابونم چقدره\"\n",
    "    It will extract numbers and assume that the first number is deposit_amount\n",
    "    and, if present, the second number is months.\n",
    "    \n",
    "    Note: In a real-world application, you might want to handle \n",
    "    non-Latin digits or multipliers like 'million' explicitly.\n",
    "    \"\"\"\n",
    "    extracted = {}\n",
    "    # Find all numeric occurrences (this will catch integers or decimals)\n",
    "    numbers = re.findall(r\"([\\d,\\.]+)\", question)\n",
    "    # Remove commas and convert to float\n",
    "    numbers = [num.replace(',', '') for num in numbers]\n",
    "    \n",
    "    if numbers:\n",
    "        # Assume the first number is deposit_amount.\n",
    "        extracted['deposit_amount'] = float(numbers[0])\n",
    "    if len(numbers) > 1:\n",
    "        # If a second number exists, assume it's the months.\n",
    "        extracted['months'] = float(numbers[1])\n",
    "    \n",
    "    return extracted\n",
    "\n",
    "def get_missing_parameters(required_params: list, provided_params: dict) -> list:\n",
    "    \"\"\"Return a list of parameters that are missing.\"\"\"\n",
    "    return [param for param in required_params if param not in provided_params]\n",
    "\n",
    "# Assume that the router has determined the user wants an interest calculation.\n",
    "# The required parameters for this formula:\n",
    "required_params = ['deposit_amount', 'months']\n",
    "\n",
    "## \n"
   ]
  },
  {
   "cell_type": "code",
   "execution_count": 2,
   "metadata": {},
   "outputs": [
    {
     "name": "stdout",
     "output_type": "stream",
     "text": [
      "Extracted parameters: {'deposit_amount': 500000000.0}\n",
      "Answer: 52083333.33\n"
     ]
    }
   ],
   "source": [
    "# Example user question (in this case partly in Persian):\n",
    "user_question = \"من میخوام ببینم سود سپرده بانک اگه 500000000 پول بخوابونم چقدره\"\n",
    "\n",
    "# Step 1: Extract any provided parameters.\n",
    "provided_params = extract_interest_parameters(user_question)\n",
    "print(\"Extracted parameters:\", provided_params)\n",
    "\n",
    "# Step 2: Identify missing parameters.\n",
    "missing_params = get_missing_parameters(required_params, provided_params)\n",
    "if missing_params:\n",
    "    for param in missing_params:\n",
    "        # In a real chat system, you would ask the user via the chat interface.\n",
    "        # Here we use input() for demonstration.\n",
    "        value_str = input(f\"Please enter a value for {param}: \")\n",
    "        try:\n",
    "            provided_params[param] = float(value_str)\n",
    "        except ValueError:\n",
    "            raise ValueError(f\"Invalid value provided for {param}.\")\n",
    "\n",
    "# Step 3: Evaluate the formula using eval().\n",
    "try:\n",
    "    result_value = eval(formula_str, provided_params)\n",
    "except Exception as e:\n",
    "    raise RuntimeError(f\"Error evaluating the formula: {e}\")\n",
    "\n",
    "# Step 4: Round the result to 2 decimal places (if needed).\n",
    "if isinstance(result_value, float) and result_value != int(result_value):\n",
    "    result_value = round(result_value, 2)\n",
    "else:\n",
    "    result_value = int(result_value)\n",
    "\n",
    "print(f\"Answer: {result_value}\")"
   ]
  },
  {
   "cell_type": "markdown",
   "metadata": {},
   "source": []
  },
  {
   "cell_type": "markdown",
   "metadata": {},
   "source": [
    "## Get missing params from user"
   ]
  },
  {
   "cell_type": "code",
   "execution_count": 20,
   "metadata": {},
   "outputs": [],
   "source": [
    "# Define the required parameters for each formula\n",
    "required_params_map = {\n",
    "    \"score_calculation\": [\"years_in_bank\", \"age\"],\n",
    "    \"interest_calculation\": [\"deposit_amount\", \"months\"],\n",
    "    \"loan_calculation\": [\"total_amount\", \"number_of_paid_loans\", \"amount_per_loan\"]\n",
    "}"
   ]
  },
  {
   "cell_type": "code",
   "execution_count": 21,
   "metadata": {},
   "outputs": [],
   "source": [
    "# Helper function: Check for missing parameters and ask the user to supply them.\n",
    "def fill_missing_parameters(next_inputs, required_params):\n",
    "    \"\"\"\n",
    "    Checks if each required parameter is present in next_inputs.\n",
    "    If not, prompts the user to input the missing value.\n",
    "    Returns the updated next_inputs dictionary.\n",
    "    \"\"\"\n",
    "    for param in required_params:\n",
    "        # Check if the parameter is missing or empty.\n",
    "        if param not in next_inputs or not next_inputs[param]:\n",
    "            value = input(f\"Please provide a value for '{param}': \")\n",
    "            next_inputs[param] = value\n",
    "    return next_inputs"
   ]
  },
  {
   "cell_type": "code",
   "execution_count": 26,
   "metadata": {},
   "outputs": [
    {
     "name": "stdout",
     "output_type": "stream",
     "text": [
      "Router output for customer score: {'question': 'من میخوام ببینم سود سپرده بانک اگه مبلغی پول بخوابونم چقدره', 'destination': 'interest_calculation', 'next_inputs': {'question': 'من میخوام ببینم سود سپرده بانک اگه مبلغی پول بخوابونم چقدره'}}\n",
      "Missing parameters for interest_calculation : ['deposit_amount', 'months']\n",
      "\n",
      "\n",
      "\u001b[1m> Entering new LLMChain chain...\u001b[0m\n",
      "Prompt after formatting:\n",
      "\u001b[32;1m\u001b[1;3mDeposit Interest Calculation:\n",
      "For the question: من میخوام ببینم سود سپرده بانک اگه مبلغی پول بخوابونم چقدره, calculate the deposit interest using the formula:\n",
      "    interest = ((deposit_amount * months) / 12) * 0.25\n",
      "where 'deposit_amount' is the amount of money deposited and 'months' is the number of months the money has been deposited.\n",
      "Provide only the arithmetic expression that calculates the interest.\n",
      "For example, if deposit_amount=2000000 and months=9, output something like: ((2000000 * 9)/12)*0.25\u001b[0m\n",
      "\n",
      "\u001b[1m> Finished chain.\u001b[0m\n",
      "Final result from 'interest_calculation': {'question': 'من میخوام ببینم سود سپرده بانک اگه مبلغی پول بخوابونم چقدره', 'deposit_amount': '15000', 'months': '4', 'text': 'To calculate the deposit interest using the provided formula, you can use the following arithmetic expression:\\n\\n\\\\[\\n((\\\\text{deposit\\\\_amount} \\\\times \\\\text{months}) / 12) \\\\times 0.25\\n\\\\]\\n\\nFor a specific example where `deposit_amount = 2000000` and `months = 9`, the expression would be:\\n\\n\\\\[\\n((2000000 \\\\times 9) / 12) \\\\times 0.25\\n\\\\]'}\n"
     ]
    }
   ],
   "source": [
    "\n",
    "\n",
    "# -------------------------------\n",
    "# Example: Customer Score Calculation Question (Formula 1)\n",
    "# -------------------------------\n",
    "# input_text1 = \"How do I calculate the customer score?\"\n",
    "input_text1 = \"من میخوام ببینم سود سپرده بانک اگه مبلغی پول بخوابونم چقدره\"\n",
    "router_result1 = router_chain({\"question\": input_text1})\n",
    "print(\"Router output for customer score:\", router_result1)\n",
    "\n",
    "destination1 = router_result1[\"destination\"]\n",
    "next_inputs1 = router_result1[\"next_inputs\"]\n",
    "\n",
    "# Check if there are any missing parameters for the selected destination\n",
    "if destination1 in required_params_map:\n",
    "    missing_params = [p for p in required_params_map[destination1] if p not in next_inputs1 or not next_inputs1[p]]\n",
    "    if missing_params:\n",
    "        print(\"Missing parameters for\", destination1, \":\", missing_params)\n",
    "        # Ask the user to input missing parameters.\n",
    "        next_inputs1 = fill_missing_parameters(next_inputs1, required_params_map[destination1])\n",
    "\n",
    "# Now call the selected formula chain with the updated inputs\n",
    "if destination1 in destination_chains:\n",
    "    final_result1 = destination_chains[destination1](next_inputs1)\n",
    "    print(f\"Final result from '{destination1}':\", final_result1)\n",
    "else:\n",
    "    print(\"Destination not found:\", destination1)\n"
   ]
  },
  {
   "cell_type": "code",
   "execution_count": 4,
   "metadata": {},
   "outputs": [
    {
     "name": "stdout",
     "output_type": "stream",
     "text": [
      "\n",
      "\n",
      "\u001b[1m> Entering new LLMMathChain chain...\u001b[0m\n",
      "((15000 * 4) / 12) * 0.25\u001b[32;1m\u001b[1;3mAnswer: 125.00\u001b[0m\n",
      "\u001b[1m> Finished chain.\u001b[0m\n",
      "Computed numeric result: {'question': '((15000 * 4) / 12) * 0.25', 'answer': 'Answer: 125.00'}\n"
     ]
    }
   ],
   "source": [
    "# from langchain.chains import LLMMathChain\n",
    "# llm_math = LLMMathChain.from_llm(llm, verbose=True)\n",
    "# llm_math.prompt.template\n",
    "test_expression = \"((15000 * 4) / 12) * 0.25\"\n",
    "computed_result = math_chain.invoke(test_expression)\n",
    "print(\"Computed numeric result:\", computed_result)\n"
   ]
  },
  {
   "cell_type": "code",
   "execution_count": 23,
   "metadata": {},
   "outputs": [],
   "source": [
    "# Helper function to decide if a value is missing or a placeholder\n",
    "def is_missing_value(value):\n",
    "    if value is None:\n",
    "        return True\n",
    "    if isinstance(value, str):\n",
    "        stripped = value.strip()\n",
    "        # Consider empty strings or common placeholder words as missing\n",
    "        if stripped == \"\" or stripped.lower() in [\"default\", \"n/a\", \"none\"]:\n",
    "            return True\n",
    "    return False"
   ]
  },
  {
   "cell_type": "code",
   "execution_count": 24,
   "metadata": {},
   "outputs": [],
   "source": [
    "# Helper function to prompt for missing parameters\n",
    "def fill_missing_parameters(next_inputs, required_params):\n",
    "    \"\"\"\n",
    "    For each required parameter, if it's missing or invalid,\n",
    "    prompt the user to provide a value and update the inputs.\n",
    "    \"\"\"\n",
    "    for param in required_params:\n",
    "        if param not in next_inputs or is_missing_value(next_inputs[param]):\n",
    "            value = input(f\"Please provide a value for '{param}': \")\n",
    "            next_inputs[param] = value\n",
    "    return next_inputs"
   ]
  },
  {
   "cell_type": "code",
   "execution_count": 25,
   "metadata": {},
   "outputs": [
    {
     "name": "stdout",
     "output_type": "stream",
     "text": [
      "Router output: {'question': 'Calculate deposit interest for my deposit.', 'destination': 'interest_calculation', 'next_inputs': {'question': 'Calculate deposit interest for my deposit.'}}\n",
      "Missing parameters for interest_calculation : ['deposit_amount', 'months']\n",
      "\n",
      "\n",
      "\u001b[1m> Entering new LLMChain chain...\u001b[0m\n",
      "Prompt after formatting:\n",
      "\u001b[32;1m\u001b[1;3mDeposit Interest Calculation:\n",
      "For the question: Calculate deposit interest for my deposit., calculate the deposit interest using the formula:\n",
      "    interest = ((deposit_amount * months) / 12) * 0.25\n",
      "where 'deposit_amount' is the amount of money deposited and 'months' is the number of months the money has been deposited.\n",
      "Provide only the arithmetic expression that calculates the interest.\n",
      "For example, if deposit_amount=2000000 and months=9, output something like: ((2000000 * 9)/12)*0.25\u001b[0m\n",
      "\n",
      "\u001b[1m> Finished chain.\u001b[0m\n",
      "Final result from 'interest_calculation': {'question': 'Calculate deposit interest for my deposit.', 'deposit_amount': '4000', 'months': '3', 'text': 'To calculate the deposit interest using the given formula:\\n\\n\\\\[\\n\\\\text{interest} = \\\\left(\\\\frac{\\\\text{deposit\\\\_amount} \\\\times \\\\text{months}}{12}\\\\right) \\\\times 0.25\\n\\\\]\\n\\nHere is the arithmetic expression for calculating the interest:\\n\\n\\\\[\\n((\\\\text{deposit\\\\_amount} \\\\times \\\\text{months}) / 12) \\\\times 0.25\\n\\\\]'}\n"
     ]
    }
   ],
   "source": [
    "# For example, suppose we have a question for deposit interest calculation.\n",
    "input_text = \"Calculate deposit interest for my deposit.\"\n",
    "\n",
    "# Use the router chain to get the initial routing result.\n",
    "router_result = router_chain({\"question\": input_text})\n",
    "print(\"Router output:\", router_result)\n",
    "\n",
    "# Extract the destination key and next_inputs dictionary.\n",
    "destination = router_result[\"destination\"]\n",
    "next_inputs = router_result[\"next_inputs\"]\n",
    "\n",
    "# Check if there are missing parameters for the selected formula.\n",
    "if destination in required_params_map:\n",
    "    missing_params = [p for p in required_params_map[destination] if p not in next_inputs or is_missing_value(next_inputs[p])]\n",
    "    if missing_params:\n",
    "        print(\"Missing parameters for\", destination, \":\", missing_params)\n",
    "        next_inputs = fill_missing_parameters(next_inputs, required_params_map[destination])\n",
    "\n",
    "# Now, execute the selected formula chain with the complete inputs.\n",
    "if destination in destination_chains:\n",
    "    final_result = destination_chains[destination](next_inputs)\n",
    "    print(f\"Final result from '{destination}':\", final_result)\n",
    "else:\n",
    "    print(\"Destination not found:\", destination)"
   ]
  },
  {
   "cell_type": "code",
   "execution_count": null,
   "metadata": {},
   "outputs": [],
   "source": []
  }
 ],
 "metadata": {
  "kernelspec": {
   "display_name": ".venv",
   "language": "python",
   "name": "python3"
  },
  "language_info": {
   "codemirror_mode": {
    "name": "ipython",
    "version": 3
   },
   "file_extension": ".py",
   "mimetype": "text/x-python",
   "name": "python",
   "nbconvert_exporter": "python",
   "pygments_lexer": "ipython3",
   "version": "3.12.4"
  }
 },
 "nbformat": 4,
 "nbformat_minor": 2
}
