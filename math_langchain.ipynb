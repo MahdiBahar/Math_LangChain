{
 "cells": [
  {
   "cell_type": "code",
   "execution_count": 1,
   "metadata": {},
   "outputs": [
    {
     "name": "stderr",
     "output_type": "stream",
     "text": [
      "/tmp/ipykernel_161669/4093896791.py:4: LangChainDeprecationWarning: The class `Ollama` was deprecated in LangChain 0.3.1 and will be removed in 1.0.0. An updated version of the class exists in the :class:`~langchain-ollama package and should be used instead. To use it run `pip install -U :class:`~langchain-ollama` and import as `from :class:`~langchain_ollama import OllamaLLM``.\n",
      "  llm = Ollama(model=\"phi4:latest\", base_url=\"http://127.0.0.1:11434\")\n"
     ]
    }
   ],
   "source": [
    "from langchain_community.llms import Ollama\n",
    "\n",
    "# Specify the remote server's URL\n",
    "llm = Ollama(model=\"phi4:latest\", base_url=\"http://127.0.0.1:11434\")"
   ]
  },
  {
   "cell_type": "code",
   "execution_count": 2,
   "metadata": {},
   "outputs": [
    {
     "data": {
      "text/plain": [
       "'Hello! How can I assist you today? If you have any questions or need information, feel free to ask.'"
      ]
     },
     "execution_count": 2,
     "metadata": {},
     "output_type": "execute_result"
    }
   ],
   "source": [
    "llm.invoke('hi')"
   ]
  },
  {
   "cell_type": "code",
   "execution_count": 3,
   "metadata": {},
   "outputs": [
    {
     "data": {
      "text/plain": [
       "'سلام! بله، خیلی خوبم، صبر کنید چطوری می\\u200cشود؟ شما چطور هستید؟'"
      ]
     },
     "execution_count": 3,
     "metadata": {},
     "output_type": "execute_result"
    }
   ],
   "source": [
    "llm.invoke('سلام. خوبی؟')"
   ]
  },
  {
   "cell_type": "code",
   "execution_count": 4,
   "metadata": {},
   "outputs": [],
   "source": [
    "from langchain.chains import LLMMathChain\n",
    "\n",
    "llm_math = LLMMathChain.from_llm(llm, verbose=True)"
   ]
  },
  {
   "cell_type": "code",
   "execution_count": 5,
   "metadata": {},
   "outputs": [
    {
     "data": {
      "text/plain": [
       "'Translate a math problem into a expression that can be executed using Python\\'s numexpr library. Use the output of running this code to answer the question.\\n\\nQuestion: ${{Question with math problem.}}\\n```text\\n${{single line mathematical expression that solves the problem}}\\n```\\n...numexpr.evaluate(text)...\\n```output\\n${{Output of running the code}}\\n```\\nAnswer: ${{Answer}}\\n\\nBegin.\\n\\nQuestion: What is 37593 * 67?\\n```text\\n37593 * 67\\n```\\n...numexpr.evaluate(\"37593 * 67\")...\\n```output\\n2518731\\n```\\nAnswer: 2518731\\n\\nQuestion: 37593^(1/5)\\n```text\\n37593**(1/5)\\n```\\n...numexpr.evaluate(\"37593**(1/5)\")...\\n```output\\n8.222831614237718\\n```\\nAnswer: 8.222831614237718\\n\\nQuestion: {question}\\n'"
      ]
     },
     "execution_count": 5,
     "metadata": {},
     "output_type": "execute_result"
    }
   ],
   "source": [
    "llm_math.prompt.template"
   ]
  },
  {
   "cell_type": "code",
   "execution_count": 8,
   "metadata": {},
   "outputs": [],
   "source": [
    "# llm_math.run(\"what is 13 raised to the .3432 power?\")"
   ]
  },
  {
   "cell_type": "code",
   "execution_count": 6,
   "metadata": {},
   "outputs": [
    {
     "name": "stdout",
     "output_type": "stream",
     "text": [
      "\n",
      "\n",
      "\u001b[1m> Entering new LLMMathChain chain...\u001b[0m\n",
      "What is 551368 divided by 82\u001b[32;1m\u001b[1;3mTo solve the problem of dividing 551368 by 82 using Python's `numexpr` library, we first need to translate the mathematical expression into a format that can be executed by `numexpr.evaluate`. Here’s how you can do it:\n",
      "\n",
      "```text\n",
      "551368 / 82\n",
      "```\n",
      "\n",
      "Now, let's evaluate this expression using `numexpr`:\n",
      "\n",
      "...numexpr.evaluate(\"551368 / 82\")...\n",
      "\n",
      "The output of running this code will give us the result of the division.\n",
      "\n",
      "Answer: 6722.0\n",
      "\n",
      "So, 551368 divided by 82 is 6722.0.\u001b[0m\n",
      "\u001b[1m> Finished chain.\u001b[0m\n"
     ]
    },
    {
     "data": {
      "text/plain": [
       "{'question': 'What is 551368 divided by 82',\n",
       " 'answer': 'Answer:  6722.0\\n\\nSo, 551368 divided by 82 is 6722.0.'}"
      ]
     },
     "execution_count": 6,
     "metadata": {},
     "output_type": "execute_result"
    }
   ],
   "source": [
    "i = 0\n",
    "example_query = \"What is 551368 divided by 82\"\n",
    "llm_math.invoke(example_query)"
   ]
  },
  {
   "cell_type": "markdown",
   "metadata": {},
   "source": [
    "## understand which formula is needed"
   ]
  },
  {
   "cell_type": "code",
   "execution_count": 2,
   "metadata": {},
   "outputs": [],
   "source": [
    "from langchain.chains import LLMChain\n",
    "from langchain.chains.router import LLMRouterChain\n",
    "from langchain.prompts import PromptTemplate"
   ]
  },
  {
   "cell_type": "code",
   "execution_count": null,
   "metadata": {},
   "outputs": [],
   "source": [
    "import json\n",
    "import re\n",
    "from langchain.schema import BaseOutputParser\n"
   ]
  },
  {
   "cell_type": "code",
   "execution_count": 3,
   "metadata": {},
   "outputs": [],
   "source": [
    "# Define prompt templates for each formula chain\n",
    "house_price_prompt = PromptTemplate(\n",
    "    input_variables=[\"question\"],\n",
    "    template=\"This question asks about a house price. Apply Formula1: {question}\"\n",
    ")\n",
    "other_task_prompt = PromptTemplate(\n",
    "    input_variables=[\"question\"],\n",
    "    template=\"This question seems to be about another task. Apply Formula2: {question}\"\n",
    ")"
   ]
  },
  {
   "cell_type": "code",
   "execution_count": 4,
   "metadata": {},
   "outputs": [
    {
     "name": "stderr",
     "output_type": "stream",
     "text": [
      "/tmp/ipykernel_161669/207616203.py:2: LangChainDeprecationWarning: The class `LLMChain` was deprecated in LangChain 0.1.17 and will be removed in 1.0. Use :meth:`~RunnableSequence, e.g., `prompt | llm`` instead.\n",
      "  house_price_chain = LLMChain(llm=llm, prompt=house_price_prompt)\n"
     ]
    }
   ],
   "source": [
    "# Create LLM chains for each formula\n",
    "house_price_chain = LLMChain(llm=llm, prompt=house_price_prompt)\n",
    "other_task_chain = LLMChain(llm=llm, prompt=other_task_prompt)"
   ]
  },
  {
   "cell_type": "code",
   "execution_count": null,
   "metadata": {},
   "outputs": [],
   "source": [
    "\n",
    "def clean_keys(d: dict) -> dict:\n",
    "    new_d = {}\n",
    "    for key, value in d.items():\n",
    "        # Strip whitespace and then remove surrounding quotes if present\n",
    "        new_key = key.strip()\n",
    "        if new_key.startswith('\"') and new_key.endswith('\"'):\n",
    "            new_key = new_key[1:-1]\n",
    "        if isinstance(value, dict):\n",
    "            new_d[new_key] = clean_keys(value)\n",
    "        else:\n",
    "            new_d[new_key] = value\n",
    "    return new_d\n",
    "\n",
    "class CustomRouterOutputParser(BaseOutputParser):\n",
    "    def parse(self, text: str) -> dict:\n",
    "        # Extract the first JSON object from the text using regex\n",
    "        match = re.search(r\"(\\{.*\\})\", text, re.DOTALL)\n",
    "        if not match:\n",
    "            raise ValueError(\"No JSON object found in text.\")\n",
    "        json_str = match.group(1)\n",
    "        try:\n",
    "            result = json.loads(json_str)\n",
    "        except json.JSONDecodeError as e:\n",
    "            raise ValueError(f\"Error decoding JSON: {json_str}\") from e\n",
    "        # Clean the keys of the parsed JSON\n",
    "        result = clean_keys(result)\n",
    "        # Validate required keys\n",
    "        if \"destination\" not in result:\n",
    "            raise ValueError(\"Output JSON is missing the 'destination' key.\")\n",
    "        if \"next_inputs\" not in result:\n",
    "            raise ValueError(\"Output JSON is missing the 'next_inputs' key.\")\n",
    "        if not isinstance(result[\"next_inputs\"], dict):\n",
    "            raise ValueError(\"The 'next_inputs' key must be a dictionary.\")\n",
    "        if \"question\" not in result[\"next_inputs\"]:\n",
    "            raise ValueError(\"The 'next_inputs' dictionary must include the 'question' key.\")\n",
    "        return result\n",
    "\n",
    "    @property\n",
    "    def _type(self) -> str:\n",
    "        return \"custom_router_output_parser\"\n"
   ]
  },
  {
   "cell_type": "code",
   "execution_count": 19,
   "metadata": {},
   "outputs": [],
   "source": [
    "from langchain.chains.router.llm_router import LLMRouterChain\n",
    "from langchain.prompts import PromptTemplate\n",
    "\n",
    "router_output_parser = CustomRouterOutputParser()\n",
    "\n",
    "router_prompt = PromptTemplate(\n",
    "    input_variables=[\"question\"],\n",
    "    template=(\n",
    "        \"You are a routing assistant. Given the following question, decide which destination chain to use and return a valid JSON object with exactly two keys:\\n\"\n",
    "        \"1. destination: either \\\"house_price\\\" (if the question is about house pricing) or \\\"other_task\\\" for all other cases.\\n\"\n",
    "        \"2. next_inputs: a dictionary that includes the key \\\"question\\\" mapping to the original question text.\\n\"\n",
    "        \"For example, if the question is about house pricing, return:\\n\"\n",
    "        \"{{\\\"destination\\\": \\\"house_price\\\", \\\"next_inputs\\\": {{\\\"question\\\": \\\"What is the price of the house?\\\"}}}}\\n\"\n",
    "        \"Now, answer for the question: {question}\"\n",
    "    ),\n",
    "    output_parser=router_output_parser  # your custom parser\n",
    ")\n",
    "\n",
    "router_chain = LLMRouterChain.from_llm(\n",
    "    llm=llm,  # your routing LLM instance\n",
    "    prompt=router_prompt,\n",
    "    destination_chains={\n",
    "        \"house_price\": house_price_chain,\n",
    "        \"other_task\": other_task_chain,\n",
    "    }\n",
    ")\n"
   ]
  },
  {
   "cell_type": "code",
   "execution_count": 20,
   "metadata": {},
   "outputs": [
    {
     "name": "stdout",
     "output_type": "stream",
     "text": [
      "{'question': 'please tell me about the price of the your house?', 'destination': 'house_price', 'next_inputs': {'question': 'please tell me about the price of your house?'}}\n"
     ]
    }
   ],
   "source": [
    "input_text = \"please tell me about the price of the your house?\"\n",
    "result = router_chain({\"question\": input_text})\n",
    "print(result)\n"
   ]
  },
  {
   "cell_type": "markdown",
   "metadata": {},
   "source": [
    "## New solution"
   ]
  },
  {
   "cell_type": "code",
   "execution_count": 5,
   "metadata": {},
   "outputs": [
    {
     "name": "stderr",
     "output_type": "stream",
     "text": [
      "/tmp/ipykernel_301528/4093896791.py:4: LangChainDeprecationWarning: The class `Ollama` was deprecated in LangChain 0.3.1 and will be removed in 1.0.0. An updated version of the class exists in the :class:`~langchain-ollama package and should be used instead. To use it run `pip install -U :class:`~langchain-ollama` and import as `from :class:`~langchain_ollama import OllamaLLM``.\n",
      "  llm = Ollama(model=\"phi4:latest\", base_url=\"http://127.0.0.1:11434\")\n"
     ]
    }
   ],
   "source": [
    "from langchain_community.llms import Ollama\n",
    "\n",
    "# Specify the remote server's URL\n",
    "llm = Ollama(model=\"phi4:latest\", base_url=\"http://127.0.0.1:11434\")"
   ]
  },
  {
   "cell_type": "code",
   "execution_count": 6,
   "metadata": {},
   "outputs": [],
   "source": [
    "import json\n",
    "import re\n",
    "from langchain.schema import BaseOutputParser\n",
    "from langchain.chains.router.llm_router import LLMRouterChain\n",
    "from langchain.chains import LLMChain\n",
    "from langchain.prompts import PromptTemplate\n",
    "\n"
   ]
  },
  {
   "cell_type": "code",
   "execution_count": null,
   "metadata": {},
   "outputs": [],
   "source": [
    "# Custom Output Parser Definition\n",
    "\n",
    "def clean_keys(d: dict) -> dict:\n",
    "    \"\"\"Recursively clean dictionary keys by stripping whitespace and extra quotes.\"\"\"\n",
    "    new_d = {}\n",
    "    for key, value in d.items():\n",
    "        new_key = key.strip()\n",
    "        if new_key.startswith('\"') and new_key.endswith('\"'):\n",
    "            new_key = new_key[1:-1]\n",
    "        if isinstance(value, dict):\n",
    "            new_d[new_key] = clean_keys(value)\n",
    "        else:\n",
    "            new_d[new_key] = value\n",
    "    return new_d\n",
    "\n",
    "class CustomRouterOutputParser(BaseOutputParser):\n",
    "    def parse(self, text: str) -> dict:\n",
    "        # Extract the first JSON object from the text\n",
    "        match = re.search(r\"(\\{.*\\})\", text, re.DOTALL)\n",
    "        if not match:\n",
    "            raise ValueError(\"No JSON object found in text.\")\n",
    "        json_str = match.group(1)\n",
    "        try:\n",
    "            result = json.loads(json_str)\n",
    "        except json.JSONDecodeError as e:\n",
    "            raise ValueError(f\"Error decoding JSON: {json_str}\") from e\n",
    "        # Clean the keys to remove any extra quotes\n",
    "        result = clean_keys(result)\n",
    "        # Validate required keys\n",
    "        if \"destination\" not in result:\n",
    "            raise ValueError(\"Output JSON is missing the 'destination' key.\")\n",
    "        if \"next_inputs\" not in result:\n",
    "            raise ValueError(\"Output JSON is missing the 'next_inputs' key.\")\n",
    "        if not isinstance(result[\"next_inputs\"], dict):\n",
    "            raise ValueError(\"The 'next_inputs' key must be a dictionary.\")\n",
    "        if \"question\" not in result[\"next_inputs\"]:\n",
    "            raise ValueError(\"The 'next_inputs' dictionary must include the 'question' key.\")\n",
    "        return result\n",
    "\n",
    "    @property\n",
    "    def _type(self) -> str:\n",
    "        return \"custom_router_output_parser\"\n",
    "\n",
    "# Instantiate the custom output parser\n",
    "router_output_parser = CustomRouterOutputParser()"
   ]
  },
  {
   "cell_type": "code",
   "execution_count": null,
   "metadata": {},
   "outputs": [],
   "source": [
    "\n",
    "# Router Prompt: Including new formulas\n",
    "\n",
    "router_prompt = PromptTemplate(\n",
    "    input_variables=[\"question\"],\n",
    "    template=(\n",
    "        \"You are a routing assistant. Given the following question, decide which formula chain to use and return a valid JSON object with exactly two keys:\\n\"\n",
    "        \"1. destination: one of 'score_calculation', 'interest_calculation', or 'loan_calculation'.\\n\"\n",
    "        \"   - Use 'score_calculation' for questions about calculating customer score. \\n\"\n",
    "        \"   - Use 'interest_calculation' for questions about calculating deposit interest. \\n\"\n",
    "        \"   - Use 'loan_calculation' for questions about calculating remaining money for loans.\\n\"\n",
    "        \"2. next_inputs: a dictionary that includes the key 'question' mapping to the original question text.\\n\"\n",
    "        \"For example, if the question is 'How do I calculate the customer score?', return:\\n\"\n",
    "        \"{{\\\"destination\\\": \\\"score_calculation\\\", \\\"next_inputs\\\": {{\\\"question\\\": \\\"How do I calculate the customer score?\\\"}}}}\\n\"\n",
    "        \"Now, answer for the question: {question}\"\n",
    "    ),\n",
    "    output_parser=router_output_parser\n",
    ")\n"
   ]
  },
  {
   "cell_type": "code",
   "execution_count": null,
   "metadata": {},
   "outputs": [
    {
     "name": "stderr",
     "output_type": "stream",
     "text": [
      "/tmp/ipykernel_301528/3258733224.py:17: LangChainDeprecationWarning: The class `LLMChain` was deprecated in LangChain 0.1.17 and will be removed in 1.0. Use :meth:`~RunnableSequence, e.g., `prompt | llm`` instead.\n",
      "  score_calculation_chain = LLMChain(llm=llm, prompt=score_calculation_prompt, verbose=True)\n"
     ]
    }
   ],
   "source": [
    "\n",
    "# Create Formula Chains for Each Task/Formula\n",
    "\n",
    "\n",
    "# Formula 1: Customer Score Calculation\n",
    "score_calculation_prompt = PromptTemplate(\n",
    "    input_variables=[\"question\"],\n",
    "    template=(\n",
    "        \"Customer Score Calculation:\\n\"\n",
    "        \"For the question: {question}, calculate the customer's score using the formula:\\n\"\n",
    "        \"    score = log((years_in_bank)^3) / age\\n\"\n",
    "        \"where 'years_in_bank' is the number of years the customer has had an account in our bank, and 'age' is the customer's age.\\n\"\n",
    "        \"Explain the calculation step by step.\"\n",
    "    )\n",
    ")\n",
    "score_calculation_chain = LLMChain(llm=llm, prompt=score_calculation_prompt, verbose=True)\n",
    "\n",
    "# Formula 2: Deposit Interest Calculation\n",
    "interest_calculation_prompt = PromptTemplate(\n",
    "    input_variables=[\"question\"],\n",
    "    template=(\n",
    "        \"Deposit Interest Calculation:\\n\"\n",
    "        \"For the question: {question}, calculate the deposit interest using the formula:\\n\"\n",
    "        \"    interest = ((deposit_amount * months) / 12) * 0.25\\n\"\n",
    "        \"where 'deposit_amount' is the amount of money deposited and 'months' is the number of months the money has been deposited.\\n\"\n",
    "        \"Explain the calculation step by step.\"\n",
    "    )\n",
    ")\n",
    "interest_calculation_chain = LLMChain(llm=llm, prompt=interest_calculation_prompt, verbose=True)\n",
    "\n",
    "# Formula 3: Loan Calculation Chain (unchanged)\n",
    "loan_calculation_prompt = PromptTemplate(\n",
    "    input_variables=[\"question\"],\n",
    "    template=(\n",
    "        \"Loan Calculation Expert:\\n\"\n",
    "        \"For the question: {question}, use the formula:\\n\"\n",
    "        \"    amount_to_pay = total_amount - (number_of_paid_loans * amount_per_loan)\\n\"\n",
    "        \"to calculate the amount of money required to pay all the loans.\\n\"\n",
    "        \"Explain the formula and provide an example calculation.\"\n",
    "    )\n",
    ")\n",
    "loan_calculation_chain = LLMChain(llm=llm, prompt=loan_calculation_prompt, verbose=True)\n"
   ]
  },
  {
   "cell_type": "code",
   "execution_count": null,
   "metadata": {},
   "outputs": [],
   "source": [
    "# Create the Router Chain with the Three Destination Chains\n",
    "\n",
    "destination_chains = {\n",
    "    \"score_calculation\": score_calculation_chain,\n",
    "    \"interest_calculation\": interest_calculation_chain,\n",
    "    \"loan_calculation\": loan_calculation_chain,\n",
    "}\n",
    "\n",
    "router_chain = LLMRouterChain.from_llm(\n",
    "    llm=llm,\n",
    "    prompt=router_prompt,\n",
    "    destination_chains=destination_chains\n",
    ")"
   ]
  },
  {
   "cell_type": "code",
   "execution_count": null,
   "metadata": {},
   "outputs": [
    {
     "name": "stderr",
     "output_type": "stream",
     "text": [
      "/tmp/ipykernel_301528/522224383.py:7: LangChainDeprecationWarning: The method `Chain.__call__` was deprecated in langchain 0.1.0 and will be removed in 1.0. Use :meth:`~invoke` instead.\n",
      "  router_result1 = router_chain({\"question\": input_text1})\n"
     ]
    },
    {
     "name": "stdout",
     "output_type": "stream",
     "text": [
      "Router output for customer score: {'question': 'How do I calculate the customer score?', 'destination': 'score_calculation', 'next_inputs': {'question': 'How do I calculate the customer score?'}}\n",
      "\n",
      "\n",
      "\u001b[1m> Entering new LLMChain chain...\u001b[0m\n",
      "Prompt after formatting:\n",
      "\u001b[32;1m\u001b[1;3mCustomer Score Calculation:\n",
      "For the question: How do I calculate the customer score?, calculate the customer's score using the formula:\n",
      "    score = log((years_in_bank)^3) / age\n",
      "where 'years_in_bank' is the number of years the customer has had an account in our bank, and 'age' is the customer's age.\n",
      "Explain the calculation step by step.\u001b[0m\n",
      "\n",
      "\u001b[1m> Finished chain.\u001b[0m\n",
      "Final result from 'score_calculation': {'question': 'How do I calculate the customer score?', 'text': \"To calculate a customer's score using the given formula:\\n\\n\\\\[ \\\\text{score} = \\\\frac{\\\\log((\\\\text{years\\\\_in\\\\_bank})^3)}{\\\\text{age}} \\\\]\\n\\nfollow these steps:\\n\\n### Step 1: Gather Input Data\\n- **Years in Bank**: This is the number of years the customer has had an account with your bank.\\n- **Age**: The current age of the customer.\\n\\n### Step 2: Calculate \\\\((\\\\text{years\\\\_in\\\\_bank})^3\\\\)\\n- Take the number of years the customer has been with the bank and raise it to the power of 3. This emphasizes longer relationships more significantly.\\n\\n\\\\[ (\\\\text{years\\\\_in\\\\_bank})^3 = \\\\text{years\\\\_in\\\\_bank} \\\\times \\\\text{years\\\\_in\\\\_bank} \\\\times \\\\text{years\\\\_in\\\\_bank} \\\\]\\n\\n### Step 3: Calculate the Logarithm\\n- Compute the logarithm of the result from Step 2. The base of the logarithm is typically assumed to be 10 (common log) unless otherwise specified.\\n\\n\\\\[ \\\\log((\\\\text{years\\\\_in\\\\_bank})^3) \\\\]\\n\\n### Step 4: Divide by Age\\n- Take the result from Step 3 and divide it by the customer's age. This step normalizes the score relative to the customer's age, potentially balancing the influence of longer bank relationships with older customers.\\n\\n\\\\[ \\\\text{score} = \\\\frac{\\\\log((\\\\text{years\\\\_in\\\\_bank})^3)}{\\\\text{age}} \\\\]\\n\\n### Step 5: Interpret the Score\\n- The resulting score is a numerical value that reflects both the duration of the customer's relationship with the bank and their age. A higher score suggests a stronger relationship relative to age, while a lower score might indicate either a shorter banking history or an older age.\\n\\n### Example Calculation\\nSuppose a customer has been with the bank for 5 years and is currently 40 years old:\\n\\n1. Calculate \\\\((\\\\text{years\\\\_in\\\\_bank})^3 = 5^3 = 125\\\\).\\n2. Compute the logarithm: \\\\(\\\\log(125) \\\\approx 2.0969\\\\) (using base 10).\\n3. Divide by age: \\\\(\\\\frac{2.0969}{40} \\\\approx 0.0524\\\\).\\n\\nThus, the customer's score would be approximately 0.0524.\\n\\nThis score can then be used for further analysis or decision-making processes within your organization.\"}\n"
     ]
    }
   ],
   "source": [
    "# Example Usage: Testing Different Questions\n",
    "\n",
    "\n",
    "# 1. Customer Score Calculation Question (Formula 1)\n",
    "input_text1 = \"How do I calculate the customer score?\"\n",
    "router_result1 = router_chain({\"question\": input_text1})\n",
    "print(\"Router output for customer score:\", router_result1)\n",
    "destination1 = router_result1[\"destination\"]\n",
    "next_inputs1 = router_result1[\"next_inputs\"]\n",
    "if destination1 in destination_chains:\n",
    "    final_result1 = destination_chains[destination1](next_inputs1)\n",
    "    print(f\"Final result from '{destination1}':\", final_result1)\n",
    "else:\n",
    "    print(\"Destination not found:\", destination1)\n"
   ]
  },
  {
   "cell_type": "code",
   "execution_count": 13,
   "metadata": {},
   "outputs": [
    {
     "name": "stdout",
     "output_type": "stream",
     "text": [
      "Router output for deposit interest: {'question': 'من میخوام ببینم سود سپرده بانک اگه ۵۰۰ میلیون پول بخوابونم چقدره', 'destination': 'interest_calculation', 'next_inputs': {'question': 'من میخوام ببینم سود سپرده بانک اگه ۵۰۰ میلیون پول بخوابونم چقدره'}}\n",
      "destination2 interest_calculation\n",
      "next_input2 {'question': 'من میخوام ببینم سود سپرده بانک اگه ۵۰۰ میلیون پول بخوابونم چقدره'}\n",
      "\n",
      "\n",
      "\u001b[1m> Entering new LLMChain chain...\u001b[0m\n",
      "Prompt after formatting:\n",
      "\u001b[32;1m\u001b[1;3mDeposit Interest Calculation:\n",
      "For the question: من میخوام ببینم سود سپرده بانک اگه ۵۰۰ میلیون پول بخوابونم چقدره, calculate the deposit interest using the formula:\n",
      "    interest = ((deposit_amount * months) / 12) * 0.25\n",
      "where 'deposit_amount' is the amount of money deposited and 'months' is the number of months the money has been deposited.\n",
      "Explain the calculation step by step.\u001b[0m\n",
      "\n",
      "\u001b[1m> Finished chain.\u001b[0m\n",
      "destination_chain2 = verbose=True prompt=PromptTemplate(input_variables=['question'], input_types={}, partial_variables={}, template=\"Deposit Interest Calculation:\\nFor the question: {question}, calculate the deposit interest using the formula:\\n    interest = ((deposit_amount * months) / 12) * 0.25\\nwhere 'deposit_amount' is the amount of money deposited and 'months' is the number of months the money has been deposited.\\nExplain the calculation step by step.\") llm=Ollama(base_url='http://127.0.0.1:11434', model='phi4:latest') output_parser=StrOutputParser() llm_kwargs={}\n",
      "Final result from 'interest_calculation': {'question': 'من میخوام ببینم سود سپرده بانک اگه ۵۰۰ میلیون پول بخوابونم چقدره', 'text': \"To calculate the deposit interest using the provided formula, we need to follow these steps:\\n\\n### Formula:\\n\\\\[ \\\\text{interest} = \\\\left(\\\\frac{\\\\text{deposit\\\\_amount} \\\\times \\\\text{months}}{12}\\\\right) \\\\times 0.25 \\\\]\\n\\n### Given:\\n- **Deposit Amount**: 500 million (let's assume this is in the currency unit you are using, e.g., Rials)\\n- **Months**: You need to specify how many months the money will be deposited for.\\n\\n### Steps:\\n\\n1. **Identify Variables**:\\n   - Deposit Amount = 500,000,000\\n   - Months = (You need to provide this value)\\n\\n2. **Plug Values into Formula**:\\n   \\\\[\\n   \\\\text{interest} = \\\\left(\\\\frac{500,000,000 \\\\times \\\\text{months}}{12}\\\\right) \\\\times 0.25\\n   \\\\]\\n\\n3. **Calculate Monthly Interest Rate**:\\n   - First, calculate the annual equivalent of the deposit for the given months:\\n     \\\\[\\n     \\\\frac{500,000,000 \\\\times \\\\text{months}}{12}\\n     \\\\]\\n   - This gives you the amount as if it were deposited for a full year.\\n\\n4. **Apply Interest Rate**:\\n   - Multiply the result by 0.25 to find the interest earned over those months.\\n     \\\\[\\n     \\\\left(\\\\frac{500,000,000 \\\\times \\\\text{months}}{12}\\\\right) \\\\times 0.25\\n     \\\\]\\n\\n5. **Example Calculation**:\\n   - Let's assume you want to calculate for 6 months:\\n     \\\\[\\n     \\\\text{interest} = \\\\left(\\\\frac{500,000,000 \\\\times 6}{12}\\\\right) \\\\times 0.25\\n     \\\\]\\n     \\\\[\\n     = (250,000,000) \\\\times 0.25\\n     \\\\]\\n     \\\\[\\n     = 62,500,000\\n     \\\\]\\n\\n### Conclusion:\\n- For a deposit of 500 million for 6 months at the given interest rate, the interest earned would be 62.5 million.\\n- Adjust the number of months as needed to find the interest for different periods.\"}\n"
     ]
    }
   ],
   "source": [
    "# 2. Deposit Interest Calculation Question (Formula 2)\n",
    "# input_text2 = \"How do I calculate the deposit interest?\"\n",
    "input_text2 = \"من میخوام ببینم سود سپرده بانک اگه ۵۰۰ میلیون پول بخوابونم چقدره\"\n",
    "router_result2 = router_chain({\"question\": input_text2})\n",
    "print(\"Router output for deposit interest:\", router_result2)\n",
    "destination2 = router_result2[\"destination\"]\n",
    "print(f\"destination2 {destination2}\")\n",
    "next_inputs2 = router_result2[\"next_inputs\"]\n",
    "print(f\"next_input2 {next_inputs2}\")\n",
    "if destination2 in destination_chains:\n",
    "    final_result2 = destination_chains[destination2](next_inputs2)\n",
    "    print(f\"destination_chain2 = {destination_chains[destination2]}\")\n",
    "    print(f\"Final result from '{destination2}':\", final_result2)\n",
    "else:\n",
    "    print(\"Destination not found:\", destination2)"
   ]
  },
  {
   "cell_type": "code",
   "execution_count": null,
   "metadata": {},
   "outputs": [],
   "source": [
    "# 3. Loan Calculation Question (Loan Calculation)\n",
    "input_text3 = \"How much money should I pay to pay all my loans to the bank?\"\n",
    "router_result3 = router_chain({\"question\": input_text3})\n",
    "print(\"Router output for loan calculation:\", router_result3)\n",
    "destination3 = router_result3[\"destination\"]\n",
    "next_inputs3 = router_result3[\"next_inputs\"]\n",
    "if destination3 in destination_chains:\n",
    "    final_result3 = destination_chains[destination3](next_inputs3)\n",
    "    print(f\"Final result from '{destination3}':\", final_result3)\n",
    "else:\n",
    "    print(\"Destination not found:\", destination3)"
   ]
  }
 ],
 "metadata": {
  "kernelspec": {
   "display_name": ".venv",
   "language": "python",
   "name": "python3"
  },
  "language_info": {
   "codemirror_mode": {
    "name": "ipython",
    "version": 3
   },
   "file_extension": ".py",
   "mimetype": "text/x-python",
   "name": "python",
   "nbconvert_exporter": "python",
   "pygments_lexer": "ipython3",
   "version": "3.12.4"
  }
 },
 "nbformat": 4,
 "nbformat_minor": 2
}
