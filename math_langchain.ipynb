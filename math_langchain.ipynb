{
 "cells": [
  {
   "cell_type": "code",
   "execution_count": 1,
   "metadata": {},
   "outputs": [
    {
     "name": "stderr",
     "output_type": "stream",
     "text": [
      "/tmp/ipykernel_42027/4093896791.py:4: LangChainDeprecationWarning: The class `Ollama` was deprecated in LangChain 0.3.1 and will be removed in 1.0.0. An updated version of the class exists in the :class:`~langchain-ollama package and should be used instead. To use it run `pip install -U :class:`~langchain-ollama` and import as `from :class:`~langchain_ollama import OllamaLLM``.\n",
      "  llm = Ollama(model=\"phi4:latest\", base_url=\"http://127.0.0.1:11434\")\n"
     ]
    }
   ],
   "source": [
    "from langchain_community.llms import Ollama\n",
    "\n",
    "# Specify the remote server's URL\n",
    "llm = Ollama(model=\"phi4:latest\", base_url=\"http://127.0.0.1:11434\")"
   ]
  },
  {
   "cell_type": "code",
   "execution_count": 2,
   "metadata": {},
   "outputs": [
    {
     "data": {
      "text/plain": [
       "'Hello! How can I assist you today? If you have any questions or need information, feel free to ask.'"
      ]
     },
     "execution_count": 2,
     "metadata": {},
     "output_type": "execute_result"
    }
   ],
   "source": [
    "llm.invoke('hi')"
   ]
  },
  {
   "cell_type": "code",
   "execution_count": 3,
   "metadata": {},
   "outputs": [
    {
     "data": {
      "text/plain": [
       "'سلام! بله، خیلی خوبم، صبر کنید چطوری می\\u200cشود؟ شما چطور هستید؟'"
      ]
     },
     "execution_count": 3,
     "metadata": {},
     "output_type": "execute_result"
    }
   ],
   "source": [
    "llm.invoke('سلام. خوبی؟')"
   ]
  },
  {
   "cell_type": "code",
   "execution_count": 4,
   "metadata": {},
   "outputs": [],
   "source": [
    "from langchain.chains import LLMMathChain\n",
    "\n",
    "llm_math = LLMMathChain.from_llm(llm, verbose=True)"
   ]
  },
  {
   "cell_type": "code",
   "execution_count": 5,
   "metadata": {},
   "outputs": [
    {
     "data": {
      "text/plain": [
       "'Translate a math problem into a expression that can be executed using Python\\'s numexpr library. Use the output of running this code to answer the question.\\n\\nQuestion: ${{Question with math problem.}}\\n```text\\n${{single line mathematical expression that solves the problem}}\\n```\\n...numexpr.evaluate(text)...\\n```output\\n${{Output of running the code}}\\n```\\nAnswer: ${{Answer}}\\n\\nBegin.\\n\\nQuestion: What is 37593 * 67?\\n```text\\n37593 * 67\\n```\\n...numexpr.evaluate(\"37593 * 67\")...\\n```output\\n2518731\\n```\\nAnswer: 2518731\\n\\nQuestion: 37593^(1/5)\\n```text\\n37593**(1/5)\\n```\\n...numexpr.evaluate(\"37593**(1/5)\")...\\n```output\\n8.222831614237718\\n```\\nAnswer: 8.222831614237718\\n\\nQuestion: {question}\\n'"
      ]
     },
     "execution_count": 5,
     "metadata": {},
     "output_type": "execute_result"
    }
   ],
   "source": [
    "llm_math.prompt.template"
   ]
  },
  {
   "cell_type": "code",
   "execution_count": 8,
   "metadata": {},
   "outputs": [],
   "source": [
    "# llm_math.run(\"what is 13 raised to the .3432 power?\")"
   ]
  },
  {
   "cell_type": "code",
   "execution_count": 6,
   "metadata": {},
   "outputs": [
    {
     "name": "stdout",
     "output_type": "stream",
     "text": [
      "\n",
      "\n",
      "\u001b[1m> Entering new LLMMathChain chain...\u001b[0m\n",
      "What is 551368 divided by 82\u001b[32;1m\u001b[1;3mTo solve the problem of dividing 551368 by 82 using Python's `numexpr` library, we first need to translate the mathematical expression into a format that can be executed by `numexpr.evaluate`. Here’s how you can do it:\n",
      "\n",
      "```text\n",
      "551368 / 82\n",
      "```\n",
      "\n",
      "Now, let's evaluate this expression using `numexpr`:\n",
      "\n",
      "...numexpr.evaluate(\"551368 / 82\")...\n",
      "\n",
      "The output of running this code will give us the result of the division.\n",
      "\n",
      "Answer: 6722.0\n",
      "\n",
      "So, 551368 divided by 82 is 6722.0.\u001b[0m\n",
      "\u001b[1m> Finished chain.\u001b[0m\n"
     ]
    },
    {
     "data": {
      "text/plain": [
       "{'question': 'What is 551368 divided by 82',\n",
       " 'answer': 'Answer:  6722.0\\n\\nSo, 551368 divided by 82 is 6722.0.'}"
      ]
     },
     "execution_count": 6,
     "metadata": {},
     "output_type": "execute_result"
    }
   ],
   "source": [
    "i = 0\n",
    "example_query = \"What is 551368 divided by 82\"\n",
    "llm_math.invoke(example_query)"
   ]
  },
  {
   "cell_type": "markdown",
   "metadata": {},
   "source": [
    "## understand which formula is selected"
   ]
  },
  {
   "cell_type": "code",
   "execution_count": 15,
   "metadata": {},
   "outputs": [],
   "source": [
    "from langchain.chains import LLMChain\n",
    "from langchain.chains.router import LLMRouterChain\n",
    "from langchain.prompts import PromptTemplate"
   ]
  },
  {
   "cell_type": "code",
   "execution_count": 16,
   "metadata": {},
   "outputs": [],
   "source": [
    "# Define prompt templates for each formula chain\n",
    "house_price_prompt = PromptTemplate(\n",
    "    input_variables=[\"question\"],\n",
    "    template=\"This question asks about a house price. Apply Formula1: {question}\"\n",
    ")\n",
    "other_task_prompt = PromptTemplate(\n",
    "    input_variables=[\"question\"],\n",
    "    template=\"This question seems to be about another task. Apply Formula2: {question}\"\n",
    ")\n"
   ]
  },
  {
   "cell_type": "code",
   "execution_count": null,
   "metadata": {},
   "outputs": [],
   "source": [
    "# Create LLM chains for each formula\n",
    "house_price_chain = LLMChain(llm=llm, prompt=house_price_prompt)\n",
    "other_task_chain = LLMChain(llm=llm, prompt=other_task_prompt)"
   ]
  },
  {
   "cell_type": "code",
   "execution_count": null,
   "metadata": {},
   "outputs": [
    {
     "ename": "AttributeError",
     "evalue": "from_llm_and_prompts",
     "output_type": "error",
     "traceback": [
      "\u001b[31m---------------------------------------------------------------------------\u001b[39m",
      "\u001b[31mAttributeError\u001b[39m                            Traceback (most recent call last)",
      "\u001b[36mCell\u001b[39m\u001b[36m \u001b[39m\u001b[32mIn[18]\u001b[39m\u001b[32m, line 2\u001b[39m\n\u001b[32m      1\u001b[39m \u001b[38;5;66;03m# Create a router chain that routes based on the question content\u001b[39;00m\n\u001b[32m----> \u001b[39m\u001b[32m2\u001b[39m router_chain = \u001b[43mLLMRouterChain\u001b[49m\u001b[43m.\u001b[49m\u001b[43mfrom_llm_and_prompts\u001b[49m(\n\u001b[32m      3\u001b[39m     llm=llm,  \u001b[38;5;66;03m# or your preferred provider for routing\u001b[39;00m\n\u001b[32m      4\u001b[39m     destination_chains={\n\u001b[32m      5\u001b[39m         \u001b[33m\"\u001b[39m\u001b[33mhouse_price\u001b[39m\u001b[33m\"\u001b[39m: house_price_chain,\n\u001b[32m      6\u001b[39m         \u001b[33m\"\u001b[39m\u001b[33mother_task\u001b[39m\u001b[33m\"\u001b[39m: other_task_chain,\n\u001b[32m      7\u001b[39m     },\n\u001b[32m      8\u001b[39m     \u001b[38;5;66;03m# default_chain=default_chain  # if applicable\u001b[39;00m\n\u001b[32m      9\u001b[39m \n\u001b[32m     10\u001b[39m )\n",
      "\u001b[36mFile \u001b[39m\u001b[32m~/Math_LangChain/.venv/lib/python3.12/site-packages/pydantic/_internal/_model_construction.py:264\u001b[39m, in \u001b[36mModelMetaclass.__getattr__\u001b[39m\u001b[34m(self, item)\u001b[39m\n\u001b[32m    262\u001b[39m \u001b[38;5;28;01mif\u001b[39;00m private_attributes \u001b[38;5;129;01mand\u001b[39;00m item \u001b[38;5;129;01min\u001b[39;00m private_attributes:\n\u001b[32m    263\u001b[39m     \u001b[38;5;28;01mreturn\u001b[39;00m private_attributes[item]\n\u001b[32m--> \u001b[39m\u001b[32m264\u001b[39m \u001b[38;5;28;01mraise\u001b[39;00m \u001b[38;5;167;01mAttributeError\u001b[39;00m(item)\n",
      "\u001b[31mAttributeError\u001b[39m: from_llm_and_prompts"
     ]
    }
   ],
   "source": [
    "# Create a router chain that routes based on the question content\n",
    "router_chain = LLMRouterChain.from_llm_and_prompts(\n",
    "    llm=llm,  \n",
    "    destination_chains={\n",
    "        \"house_price\": house_price_chain,\n",
    "        \"other_task\": other_task_chain,\n",
    "    },\n",
    "    # default_chain=default_chain  # if applicable\n",
    "    \n",
    ")\n",
    "\n"
   ]
  },
  {
   "cell_type": "code",
   "execution_count": 19,
   "metadata": {},
   "outputs": [
    {
     "ename": "NameError",
     "evalue": "name 'router_chain' is not defined",
     "output_type": "error",
     "traceback": [
      "\u001b[31m---------------------------------------------------------------------------\u001b[39m",
      "\u001b[31mNameError\u001b[39m                                 Traceback (most recent call last)",
      "\u001b[36mCell\u001b[39m\u001b[36m \u001b[39m\u001b[32mIn[19]\u001b[39m\u001b[32m, line 3\u001b[39m\n\u001b[32m      1\u001b[39m \u001b[38;5;66;03m# Use the router chain on your input\u001b[39;00m\n\u001b[32m      2\u001b[39m input_text = \u001b[33m\"\u001b[39m\u001b[33mWhat is the price of the house?\u001b[39m\u001b[33m\"\u001b[39m\n\u001b[32m----> \u001b[39m\u001b[32m3\u001b[39m result = \u001b[43mrouter_chain\u001b[49m.run(input_text)\n\u001b[32m      4\u001b[39m \u001b[38;5;28mprint\u001b[39m(result)\n",
      "\u001b[31mNameError\u001b[39m: name 'router_chain' is not defined"
     ]
    }
   ],
   "source": [
    "# Use the router chain on your input\n",
    "input_text = \"What is the price of the house?\"\n",
    "result = router_chain.run(input_text)\n",
    "print(result)\n"
   ]
  },
  {
   "cell_type": "code",
   "execution_count": null,
   "metadata": {},
   "outputs": [],
   "source": []
  }
 ],
 "metadata": {
  "kernelspec": {
   "display_name": ".venv",
   "language": "python",
   "name": "python3"
  },
  "language_info": {
   "codemirror_mode": {
    "name": "ipython",
    "version": 3
   },
   "file_extension": ".py",
   "mimetype": "text/x-python",
   "name": "python",
   "nbconvert_exporter": "python",
   "pygments_lexer": "ipython3",
   "version": "3.12.4"
  }
 },
 "nbformat": 4,
 "nbformat_minor": 2
}
