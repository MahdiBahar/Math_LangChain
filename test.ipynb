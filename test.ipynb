{
 "cells": [
  {
   "cell_type": "code",
   "execution_count": 7,
   "metadata": {},
   "outputs": [],
   "source": [
    "from langchain_community.llms import Ollama\n",
    "\n",
    "# Specify the remote server's URL\n",
    "llm = Ollama(model=\"phi4:latest\", base_url=\"http://127.0.0.1:11434\")"
   ]
  },
  {
   "cell_type": "code",
   "execution_count": 8,
   "metadata": {},
   "outputs": [],
   "source": [
    "from langchain.chains import LLMMathChain\n",
    "\n",
    "llm_math = LLMMathChain.from_llm(llm, verbose=True)"
   ]
  },
  {
   "cell_type": "code",
   "execution_count": 9,
   "metadata": {},
   "outputs": [
    {
     "data": {
      "text/plain": [
       "'Translate a math problem into a expression that can be executed using Python\\'s numexpr library. Use the output of running this code to answer the question.\\n\\nQuestion: ${{Question with math problem.}}\\n```text\\n${{single line mathematical expression that solves the problem}}\\n```\\n...numexpr.evaluate(text)...\\n```output\\n${{Output of running the code}}\\n```\\nAnswer: ${{Answer}}\\n\\nBegin.\\n\\nQuestion: What is 37593 * 67?\\n```text\\n37593 * 67\\n```\\n...numexpr.evaluate(\"37593 * 67\")...\\n```output\\n2518731\\n```\\nAnswer: 2518731\\n\\nQuestion: 37593^(1/5)\\n```text\\n37593**(1/5)\\n```\\n...numexpr.evaluate(\"37593**(1/5)\")...\\n```output\\n8.222831614237718\\n```\\nAnswer: 8.222831614237718\\n\\nQuestion: {question}\\n'"
      ]
     },
     "execution_count": 9,
     "metadata": {},
     "output_type": "execute_result"
    }
   ],
   "source": [
    "\n",
    "llm_math.prompt.template"
   ]
  },
  {
   "cell_type": "code",
   "execution_count": 10,
   "metadata": {},
   "outputs": [],
   "source": [
    "expression = \"551368 / 82\"\n",
    "expression = expression.strip()\n"
   ]
  },
  {
   "cell_type": "code",
   "execution_count": 11,
   "metadata": {},
   "outputs": [
    {
     "name": "stdout",
     "output_type": "stream",
     "text": [
      "Evaluating expression: 551368 / 82\n"
     ]
    }
   ],
   "source": [
    "print(\"Evaluating expression:\", expression)\n"
   ]
  },
  {
   "cell_type": "code",
   "execution_count": 12,
   "metadata": {},
   "outputs": [],
   "source": [
    "import numexpr\n",
    "\n",
    "try:\n",
    "    result = numexpr.evaluate(expression)\n",
    "except ValueError as e:\n",
    "    print(\"Error evaluating expression:\", e)\n",
    "    # Further debugging or input cleaning here\n"
   ]
  },
  {
   "cell_type": "code",
   "execution_count": 13,
   "metadata": {},
   "outputs": [
    {
     "name": "stdout",
     "output_type": "stream",
     "text": [
      "\n",
      "\n",
      "\u001b[1m> Entering new LLMMathChain chain...\u001b[0m\n",
      "What is 551368 divided by 82\u001b[32;1m\u001b[1;3mTo solve the problem of dividing 551368 by 82 using Python's numexpr library, you would create and evaluate an expression as follows:\n",
      "\n",
      "```text\n",
      "551368 / 82\n",
      "```\n",
      "\n",
      "Using numexpr to evaluate this expression:\n",
      "\n",
      "...numexpr.evaluate(\"551368 / 82\")...\n",
      "\n",
      "The output from running this code is:\n",
      "\n",
      "\u001b[0m"
     ]
    },
    {
     "ename": "ValueError",
     "evalue": "unknown format from LLM: To solve the problem of dividing 551368 by 82 using Python's numexpr library, you would create and evaluate an expression as follows:\n\n```text\n551368 / 82\n```\n\nUsing numexpr to evaluate this expression:\n\n...numexpr.evaluate(\"551368 / 82\")...\n\nThe output from running this code is:",
     "output_type": "error",
     "traceback": [
      "\u001b[31m---------------------------------------------------------------------------\u001b[39m",
      "\u001b[31mValueError\u001b[39m                                Traceback (most recent call last)",
      "\u001b[36mCell\u001b[39m\u001b[36m \u001b[39m\u001b[32mIn[13]\u001b[39m\u001b[32m, line 3\u001b[39m\n\u001b[32m      1\u001b[39m i = \u001b[32m0\u001b[39m\n\u001b[32m      2\u001b[39m example_query = \u001b[33m\"\u001b[39m\u001b[33mWhat is 551368 divided by 82\u001b[39m\u001b[33m\"\u001b[39m\n\u001b[32m----> \u001b[39m\u001b[32m3\u001b[39m \u001b[43mllm_math\u001b[49m\u001b[43m.\u001b[49m\u001b[43minvoke\u001b[49m\u001b[43m(\u001b[49m\u001b[43mexample_query\u001b[49m\u001b[43m)\u001b[49m\n",
      "\u001b[36mFile \u001b[39m\u001b[32m~/Math_LangChain/.venv/lib/python3.12/site-packages/langchain/chains/base.py:170\u001b[39m, in \u001b[36mChain.invoke\u001b[39m\u001b[34m(self, input, config, **kwargs)\u001b[39m\n\u001b[32m    168\u001b[39m \u001b[38;5;28;01mexcept\u001b[39;00m \u001b[38;5;167;01mBaseException\u001b[39;00m \u001b[38;5;28;01mas\u001b[39;00m e:\n\u001b[32m    169\u001b[39m     run_manager.on_chain_error(e)\n\u001b[32m--> \u001b[39m\u001b[32m170\u001b[39m     \u001b[38;5;28;01mraise\u001b[39;00m e\n\u001b[32m    171\u001b[39m run_manager.on_chain_end(outputs)\n\u001b[32m    173\u001b[39m \u001b[38;5;28;01mif\u001b[39;00m include_run_info:\n",
      "\u001b[36mFile \u001b[39m\u001b[32m~/Math_LangChain/.venv/lib/python3.12/site-packages/langchain/chains/base.py:160\u001b[39m, in \u001b[36mChain.invoke\u001b[39m\u001b[34m(self, input, config, **kwargs)\u001b[39m\n\u001b[32m    157\u001b[39m \u001b[38;5;28;01mtry\u001b[39;00m:\n\u001b[32m    158\u001b[39m     \u001b[38;5;28mself\u001b[39m._validate_inputs(inputs)\n\u001b[32m    159\u001b[39m     outputs = (\n\u001b[32m--> \u001b[39m\u001b[32m160\u001b[39m         \u001b[38;5;28;43mself\u001b[39;49m\u001b[43m.\u001b[49m\u001b[43m_call\u001b[49m\u001b[43m(\u001b[49m\u001b[43minputs\u001b[49m\u001b[43m,\u001b[49m\u001b[43m \u001b[49m\u001b[43mrun_manager\u001b[49m\u001b[43m=\u001b[49m\u001b[43mrun_manager\u001b[49m\u001b[43m)\u001b[49m\n\u001b[32m    161\u001b[39m         \u001b[38;5;28;01mif\u001b[39;00m new_arg_supported\n\u001b[32m    162\u001b[39m         \u001b[38;5;28;01melse\u001b[39;00m \u001b[38;5;28mself\u001b[39m._call(inputs)\n\u001b[32m    163\u001b[39m     )\n\u001b[32m    165\u001b[39m     final_outputs: Dict[\u001b[38;5;28mstr\u001b[39m, Any] = \u001b[38;5;28mself\u001b[39m.prep_outputs(\n\u001b[32m    166\u001b[39m         inputs, outputs, return_only_outputs\n\u001b[32m    167\u001b[39m     )\n\u001b[32m    168\u001b[39m \u001b[38;5;28;01mexcept\u001b[39;00m \u001b[38;5;167;01mBaseException\u001b[39;00m \u001b[38;5;28;01mas\u001b[39;00m e:\n",
      "\u001b[36mFile \u001b[39m\u001b[32m~/Math_LangChain/.venv/lib/python3.12/site-packages/langchain/chains/llm_math/base.py:276\u001b[39m, in \u001b[36mLLMMathChain._call\u001b[39m\u001b[34m(self, inputs, run_manager)\u001b[39m\n\u001b[32m    270\u001b[39m _run_manager.on_text(inputs[\u001b[38;5;28mself\u001b[39m.input_key])\n\u001b[32m    271\u001b[39m llm_output = \u001b[38;5;28mself\u001b[39m.llm_chain.predict(\n\u001b[32m    272\u001b[39m     question=inputs[\u001b[38;5;28mself\u001b[39m.input_key],\n\u001b[32m    273\u001b[39m     stop=[\u001b[33m\"\u001b[39m\u001b[33m```output\u001b[39m\u001b[33m\"\u001b[39m],\n\u001b[32m    274\u001b[39m     callbacks=_run_manager.get_child(),\n\u001b[32m    275\u001b[39m )\n\u001b[32m--> \u001b[39m\u001b[32m276\u001b[39m \u001b[38;5;28;01mreturn\u001b[39;00m \u001b[38;5;28;43mself\u001b[39;49m\u001b[43m.\u001b[49m\u001b[43m_process_llm_result\u001b[49m\u001b[43m(\u001b[49m\u001b[43mllm_output\u001b[49m\u001b[43m,\u001b[49m\u001b[43m \u001b[49m\u001b[43m_run_manager\u001b[49m\u001b[43m)\u001b[49m\n",
      "\u001b[36mFile \u001b[39m\u001b[32m~/Math_LangChain/.venv/lib/python3.12/site-packages/langchain/chains/llm_math/base.py:239\u001b[39m, in \u001b[36mLLMMathChain._process_llm_result\u001b[39m\u001b[34m(self, llm_output, run_manager)\u001b[39m\n\u001b[32m    237\u001b[39m     answer = \u001b[33m\"\u001b[39m\u001b[33mAnswer: \u001b[39m\u001b[33m\"\u001b[39m + llm_output.split(\u001b[33m\"\u001b[39m\u001b[33mAnswer:\u001b[39m\u001b[33m\"\u001b[39m)[-\u001b[32m1\u001b[39m]\n\u001b[32m    238\u001b[39m \u001b[38;5;28;01melse\u001b[39;00m:\n\u001b[32m--> \u001b[39m\u001b[32m239\u001b[39m     \u001b[38;5;28;01mraise\u001b[39;00m \u001b[38;5;167;01mValueError\u001b[39;00m(\u001b[33mf\u001b[39m\u001b[33m\"\u001b[39m\u001b[33munknown format from LLM: \u001b[39m\u001b[38;5;132;01m{\u001b[39;00mllm_output\u001b[38;5;132;01m}\u001b[39;00m\u001b[33m\"\u001b[39m)\n\u001b[32m    240\u001b[39m \u001b[38;5;28;01mreturn\u001b[39;00m {\u001b[38;5;28mself\u001b[39m.output_key: answer}\n",
      "\u001b[31mValueError\u001b[39m: unknown format from LLM: To solve the problem of dividing 551368 by 82 using Python's numexpr library, you would create and evaluate an expression as follows:\n\n```text\n551368 / 82\n```\n\nUsing numexpr to evaluate this expression:\n\n...numexpr.evaluate(\"551368 / 82\")...\n\nThe output from running this code is:"
     ]
    }
   ],
   "source": [
    "i = 0\n",
    "example_query = \"What is 551368 divided by 82\"\n",
    "llm_math.invoke(example_query)"
   ]
  },
  {
   "cell_type": "code",
   "execution_count": 5,
   "metadata": {},
   "outputs": [
    {
     "name": "stdout",
     "output_type": "stream",
     "text": [
      "\n",
      "\n",
      "\u001b[1m> Entering new LLMMathChain chain...\u001b[0m\n",
      "What is 551368 divided by 82?\u001b[32;1m\u001b[1;3mTo solve the problem of dividing 551368 by 82 using Python's numexpr library, we can translate this into a single line mathematical expression and execute it.\n",
      "\n",
      "```text\n",
      "551368 / 82\n",
      "```\n",
      "\n",
      "...numexpr.evaluate(\"551368 / 82\")...\n",
      "\n",
      "\u001b[0m"
     ]
    },
    {
     "ename": "ValueError",
     "evalue": "unknown format from LLM: To solve the problem of dividing 551368 by 82 using Python's numexpr library, we can translate this into a single line mathematical expression and execute it.\n\n```text\n551368 / 82\n```\n\n...numexpr.evaluate(\"551368 / 82\")...",
     "output_type": "error",
     "traceback": [
      "\u001b[31m---------------------------------------------------------------------------\u001b[39m",
      "\u001b[31mValueError\u001b[39m                                Traceback (most recent call last)",
      "\u001b[36mCell\u001b[39m\u001b[36m \u001b[39m\u001b[32mIn[5]\u001b[39m\u001b[32m, line 1\u001b[39m\n\u001b[32m----> \u001b[39m\u001b[32m1\u001b[39m \u001b[43mllm_math\u001b[49m\u001b[43m.\u001b[49m\u001b[43minvoke\u001b[49m\u001b[43m(\u001b[49m\u001b[43m{\u001b[49m\u001b[33;43m\"\u001b[39;49m\u001b[33;43mquestion\u001b[39;49m\u001b[33;43m\"\u001b[39;49m\u001b[43m:\u001b[49m\u001b[43m \u001b[49m\u001b[33;43m\"\u001b[39;49m\u001b[33;43mWhat is 551368 divided by 82?\u001b[39;49m\u001b[33;43m\"\u001b[39;49m\u001b[43m}\u001b[49m\u001b[43m)\u001b[49m\n",
      "\u001b[36mFile \u001b[39m\u001b[32m~/Math_LangChain/.venv/lib/python3.12/site-packages/langchain/chains/base.py:170\u001b[39m, in \u001b[36mChain.invoke\u001b[39m\u001b[34m(self, input, config, **kwargs)\u001b[39m\n\u001b[32m    168\u001b[39m \u001b[38;5;28;01mexcept\u001b[39;00m \u001b[38;5;167;01mBaseException\u001b[39;00m \u001b[38;5;28;01mas\u001b[39;00m e:\n\u001b[32m    169\u001b[39m     run_manager.on_chain_error(e)\n\u001b[32m--> \u001b[39m\u001b[32m170\u001b[39m     \u001b[38;5;28;01mraise\u001b[39;00m e\n\u001b[32m    171\u001b[39m run_manager.on_chain_end(outputs)\n\u001b[32m    173\u001b[39m \u001b[38;5;28;01mif\u001b[39;00m include_run_info:\n",
      "\u001b[36mFile \u001b[39m\u001b[32m~/Math_LangChain/.venv/lib/python3.12/site-packages/langchain/chains/base.py:160\u001b[39m, in \u001b[36mChain.invoke\u001b[39m\u001b[34m(self, input, config, **kwargs)\u001b[39m\n\u001b[32m    157\u001b[39m \u001b[38;5;28;01mtry\u001b[39;00m:\n\u001b[32m    158\u001b[39m     \u001b[38;5;28mself\u001b[39m._validate_inputs(inputs)\n\u001b[32m    159\u001b[39m     outputs = (\n\u001b[32m--> \u001b[39m\u001b[32m160\u001b[39m         \u001b[38;5;28;43mself\u001b[39;49m\u001b[43m.\u001b[49m\u001b[43m_call\u001b[49m\u001b[43m(\u001b[49m\u001b[43minputs\u001b[49m\u001b[43m,\u001b[49m\u001b[43m \u001b[49m\u001b[43mrun_manager\u001b[49m\u001b[43m=\u001b[49m\u001b[43mrun_manager\u001b[49m\u001b[43m)\u001b[49m\n\u001b[32m    161\u001b[39m         \u001b[38;5;28;01mif\u001b[39;00m new_arg_supported\n\u001b[32m    162\u001b[39m         \u001b[38;5;28;01melse\u001b[39;00m \u001b[38;5;28mself\u001b[39m._call(inputs)\n\u001b[32m    163\u001b[39m     )\n\u001b[32m    165\u001b[39m     final_outputs: Dict[\u001b[38;5;28mstr\u001b[39m, Any] = \u001b[38;5;28mself\u001b[39m.prep_outputs(\n\u001b[32m    166\u001b[39m         inputs, outputs, return_only_outputs\n\u001b[32m    167\u001b[39m     )\n\u001b[32m    168\u001b[39m \u001b[38;5;28;01mexcept\u001b[39;00m \u001b[38;5;167;01mBaseException\u001b[39;00m \u001b[38;5;28;01mas\u001b[39;00m e:\n",
      "\u001b[36mFile \u001b[39m\u001b[32m~/Math_LangChain/.venv/lib/python3.12/site-packages/langchain/chains/llm_math/base.py:276\u001b[39m, in \u001b[36mLLMMathChain._call\u001b[39m\u001b[34m(self, inputs, run_manager)\u001b[39m\n\u001b[32m    270\u001b[39m _run_manager.on_text(inputs[\u001b[38;5;28mself\u001b[39m.input_key])\n\u001b[32m    271\u001b[39m llm_output = \u001b[38;5;28mself\u001b[39m.llm_chain.predict(\n\u001b[32m    272\u001b[39m     question=inputs[\u001b[38;5;28mself\u001b[39m.input_key],\n\u001b[32m    273\u001b[39m     stop=[\u001b[33m\"\u001b[39m\u001b[33m```output\u001b[39m\u001b[33m\"\u001b[39m],\n\u001b[32m    274\u001b[39m     callbacks=_run_manager.get_child(),\n\u001b[32m    275\u001b[39m )\n\u001b[32m--> \u001b[39m\u001b[32m276\u001b[39m \u001b[38;5;28;01mreturn\u001b[39;00m \u001b[38;5;28;43mself\u001b[39;49m\u001b[43m.\u001b[49m\u001b[43m_process_llm_result\u001b[49m\u001b[43m(\u001b[49m\u001b[43mllm_output\u001b[49m\u001b[43m,\u001b[49m\u001b[43m \u001b[49m\u001b[43m_run_manager\u001b[49m\u001b[43m)\u001b[49m\n",
      "\u001b[36mFile \u001b[39m\u001b[32m~/Math_LangChain/.venv/lib/python3.12/site-packages/langchain/chains/llm_math/base.py:239\u001b[39m, in \u001b[36mLLMMathChain._process_llm_result\u001b[39m\u001b[34m(self, llm_output, run_manager)\u001b[39m\n\u001b[32m    237\u001b[39m     answer = \u001b[33m\"\u001b[39m\u001b[33mAnswer: \u001b[39m\u001b[33m\"\u001b[39m + llm_output.split(\u001b[33m\"\u001b[39m\u001b[33mAnswer:\u001b[39m\u001b[33m\"\u001b[39m)[-\u001b[32m1\u001b[39m]\n\u001b[32m    238\u001b[39m \u001b[38;5;28;01melse\u001b[39;00m:\n\u001b[32m--> \u001b[39m\u001b[32m239\u001b[39m     \u001b[38;5;28;01mraise\u001b[39;00m \u001b[38;5;167;01mValueError\u001b[39;00m(\u001b[33mf\u001b[39m\u001b[33m\"\u001b[39m\u001b[33munknown format from LLM: \u001b[39m\u001b[38;5;132;01m{\u001b[39;00mllm_output\u001b[38;5;132;01m}\u001b[39;00m\u001b[33m\"\u001b[39m)\n\u001b[32m    240\u001b[39m \u001b[38;5;28;01mreturn\u001b[39;00m {\u001b[38;5;28mself\u001b[39m.output_key: answer}\n",
      "\u001b[31mValueError\u001b[39m: unknown format from LLM: To solve the problem of dividing 551368 by 82 using Python's numexpr library, we can translate this into a single line mathematical expression and execute it.\n\n```text\n551368 / 82\n```\n\n...numexpr.evaluate(\"551368 / 82\")..."
     ]
    }
   ],
   "source": [
    "llm_math.invoke({\"question\": \"What is 551368 divided by 82?\"})\n"
   ]
  },
  {
   "cell_type": "code",
   "execution_count": 7,
   "metadata": {},
   "outputs": [
    {
     "name": "stdout",
     "output_type": "stream",
     "text": [
      "6724.0\n"
     ]
    }
   ],
   "source": [
    "import numexpr\n",
    "\n",
    "result = numexpr.evaluate(\"551368 / 82\")\n",
    "print(result)  # Should output: [6724]\n"
   ]
  },
  {
   "cell_type": "markdown",
   "metadata": {},
   "source": [
    "### Change the prompt to solve the above error in mathchain"
   ]
  },
  {
   "cell_type": "code",
   "execution_count": 14,
   "metadata": {},
   "outputs": [
    {
     "name": "stderr",
     "output_type": "stream",
     "text": [
      "/tmp/ipykernel_5349/1055621017.py:34: LangChainDeprecationWarning: This class is deprecated and will be removed in langchain 1.0. See API reference for replacement: https://api.python.langchain.com/en/latest/chains/langchain.chains.llm_math.base.LLMMathChain.html\n",
      "  math_chain = LLMMathChain(llm=llm, prompt=custom_prompt, verbose = True)\n",
      "/home/mahdi/Math_LangChain/.venv/lib/python3.12/site-packages/langchain/chains/llm_math/base.py:175: UserWarning: Directly instantiating an LLMMathChain with an llm is deprecated. Please instantiate with llm_chain argument or using the from_llm class method.\n",
      "  warnings.warn(\n"
     ]
    },
    {
     "name": "stdout",
     "output_type": "stream",
     "text": [
      "\n",
      "\n",
      "\u001b[1m> Entering new LLMMathChain chain...\u001b[0m\n",
      "What is 551121 divided by 82?\u001b[32;1m\u001b[1;3mAnswer: 6727.12\u001b[0m\n",
      "\u001b[1m> Finished chain.\u001b[0m\n",
      "{'question': 'What is 551121 divided by 82?', 'answer': 'Answer: 6727.12'}\n"
     ]
    }
   ],
   "source": [
    "from langchain.chains import LLMMathChain\n",
    "from langchain.llms import Ollama\n",
    "from langchain.prompts import PromptTemplate\n",
    "\n",
    "# Create a custom prompt template to enforce the expected output.\n",
    "custom_prompt = PromptTemplate(\n",
    "    input_variables=[\"question\"],\n",
    "    template=(\n",
    "        \"You are a expert math solver. Solve the problem below and output only the final answer in the exact format:\\n\"\n",
    "        \"Answer: <result>\\n\\n\"\n",
    "        \"Do not include any explanation, commentary, or extra text.\\n\\n\"\n",
    "        \"Round the result with 2. For example,if the result is 5.6666666, make the result 5.66.\\n\\n\"\n",
    "        \"Problem: {question}\"\n",
    "    )\n",
    ")\n",
    "\n",
    "\n",
    "# custom_prompt = PromptTemplate(\n",
    "#     input_variables=[\"question\"],\n",
    "#     template=(\n",
    "#         \"You are an expert math solver. Solve the following problem using exact arithmetic. \"\n",
    "#         \"Only output the final answer in the exact format 'Answer: <result>' with no additional text.\\n\\n\"\n",
    "#         \"Problem: {question}\"\n",
    "#     )\n",
    "# )\n",
    "\n",
    "\n",
    "\n",
    "\n",
    "# Use your local Ollama model.\n",
    "llm = Ollama(model=\"phi4:latest\", base_url=\"http://127.0.0.1:11434\", temperature = 0)\n",
    "\n",
    "# Instantiate the math chain with the custom prompt.\n",
    "math_chain = LLMMathChain(llm=llm, prompt=custom_prompt, verbose = True)\n",
    "\n",
    "# Run the chain with the math problem.\n",
    "# result = math_chain.invoke(\"What is 551368 divided by 82?\")\n",
    "result = math_chain.invoke(\"What is 551121 divided by 82?\")\n",
    "# result = math_chain.invoke(\"What is (12 plus 18 minus 10) devide by 3?\")\n",
    "print(result)  # Expected output: Answer: 6724\n"
   ]
  },
  {
   "cell_type": "code",
   "execution_count": 15,
   "metadata": {},
   "outputs": [
    {
     "name": "stdout",
     "output_type": "stream",
     "text": [
      "{'question': 'What is 551121 divided by 82?', 'answer': 'Answer: 6727.12'}\n"
     ]
    }
   ],
   "source": [
    "import re\n",
    "\n",
    "# Assume result is the string returned by math_chain.run(...)\n",
    "# Example: result = \"Answer: 6724.731707317073\"\n",
    "if \"Answer:\" in result:\n",
    "    # Extract the numeric part.\n",
    "    numeric_part = result.split(\"Answer:\")[-1].strip()\n",
    "    try:\n",
    "        # Convert to float and check if it's nearly an integer.\n",
    "        value = float(numeric_part)\n",
    "        if abs(value - round(value)) < 1e-6:\n",
    "            value = round(value)\n",
    "        # Format the final answer.\n",
    "        final_answer = f\"Answer: {value}\"\n",
    "    except Exception as e:\n",
    "        final_answer = result\n",
    "else:\n",
    "    final_answer = result\n",
    "\n",
    "print(final_answer)  # Expected output: Answer: 6724\n"
   ]
  },
  {
   "cell_type": "code",
   "execution_count": 16,
   "metadata": {},
   "outputs": [
    {
     "name": "stdout",
     "output_type": "stream",
     "text": [
      "Answer: 6724\n"
     ]
    }
   ],
   "source": [
    "# Direct computation in Python:\n",
    "expression = \"551368 / 82\"\n",
    "# Using Python's exact division (or integer division if appropriate):\n",
    "result_value = eval(expression)\n",
    "# If you expect an integer result:\n",
    "if result_value == int(result_value):\n",
    "    result_value = int(result_value)\n",
    "print(f\"Answer: {result_value}\")  # Expected output: Answer: 6724\n"
   ]
  },
  {
   "cell_type": "markdown",
   "metadata": {},
   "source": [
    "### Because the result is not accurate, I will try to use a python code to calculate mathematics part."
   ]
  },
  {
   "cell_type": "code",
   "execution_count": 15,
   "metadata": {},
   "outputs": [
    {
     "name": "stdout",
     "output_type": "stream",
     "text": [
      "Expression: 2 * 82 - 12.5 + 2\n",
      "Answer: 153.5\n"
     ]
    }
   ],
   "source": [
    "import re\n",
    "\n",
    "def prompt_to_expression(prompt):\n",
    "    # Convert prompt to lowercase to standardize the mapping.\n",
    "    text = prompt.lower()\n",
    "    # Map common arithmetic phrases to their operators.\n",
    "    text = text.replace(\"divided by\", \"/\")\n",
    "    text = text.replace(\"multiplied by\", \"*\")\n",
    "    text = text.replace(\"plus\", \"+\")\n",
    "    text = text.replace(\"minus\", \"-\")\n",
    "    \n",
    "    # Remove unnecessary words and punctuation.\n",
    "    text = re.sub(r\"what is\", \"\", text)\n",
    "    text = re.sub(r\"\\?\", \"\", text)\n",
    "    \n",
    "    # Clean up extra spaces.\n",
    "    return text.strip()\n",
    "\n",
    "# Example prompt:\n",
    "# prompt = \"What is 551368 divided by 82?\"\n",
    "# prompt = \"What is 2 multiplied by 82 minus 12.5?\"\n",
    "prompt = \"What is 2 multiplied by 82 minus 12.5 plus 2?\"\n",
    "# prompt = \"I want to 2 multiplied by 82. How much is it?\"\n",
    "expression = prompt_to_expression(prompt)\n",
    "print(\"Expression:\", expression)  # Expected output: \"551368 / 82\"\n",
    "\n",
    "# Now evaluate the expression.\n",
    "result_value = eval(expression)\n",
    "\n",
    "# If the result is an integer, cast it accordingly.\n",
    "if result_value == int(result_value):\n",
    "    result_value = int(result_value)\n",
    "\n",
    "print(f\"Answer: {result_value}\")  # Expected output: Answer: 6724\n"
   ]
  },
  {
   "cell_type": "code",
   "execution_count": 4,
   "metadata": {},
   "outputs": [],
   "source": [
    "import re\n",
    "\n",
    "def prompt_to_expression(prompt: str) -> str:\n",
    "    \"\"\"\n",
    "    Convert a natural language math prompt into an arithmetic expression.\n",
    "    \n",
    "    This function uses simple heuristics:\n",
    "      - It maps key phrases to arithmetic operators.\n",
    "      - It extracts numbers from the prompt.\n",
    "      - It then constructs an expression using the first two numbers found.\n",
    "    \n",
    "    Args:\n",
    "        prompt (str): The natural language math prompt.\n",
    "    \n",
    "    Returns:\n",
    "        str: A string representing the arithmetic expression.\n",
    "    \n",
    "    Raises:\n",
    "        ValueError: If no valid operation or not enough numbers are found.\n",
    "    \"\"\"\n",
    "    # Convert prompt to lowercase for uniform processing.\n",
    "    text = prompt.lower()\n",
    "\n",
    "    # Mapping of keywords/phrases to arithmetic operators.\n",
    "    operations = {\n",
    "        'divided by': '/',\n",
    "        'divide': '/',\n",
    "        'multiplied by': '*',\n",
    "        'multiply': '*',\n",
    "        'times': '*',\n",
    "        'plus': '+',\n",
    "        'added to': '+',\n",
    "        'minus': '-',\n",
    "        'subtracted by': '-',\n",
    "        'subtract': '-',\n",
    "        'power' : '^'\n",
    "    }\n",
    "    \n",
    "    # Identify the operator by looking for any of the defined phrases.\n",
    "    operator = None\n",
    "    for phrase, op in operations.items():\n",
    "        if phrase in text:\n",
    "            operator = op\n",
    "            break\n",
    "\n",
    "    if operator is None:\n",
    "        raise ValueError(\"No valid arithmetic operation found in the prompt.\")\n",
    "\n",
    "    # Extract numbers (both integers and decimals) from the prompt.\n",
    "    numbers = re.findall(r'\\d+(?:\\.\\d+)?', text)\n",
    "    if len(numbers) < 2:\n",
    "        raise ValueError(\"Not enough numbers found in the prompt to form an expression.\")\n",
    "\n",
    "    # Construct the arithmetic expression using the first two numbers.\n",
    "    expression = f\"{numbers[0]} {operator} {numbers[1]}\"\n",
    "    return expression\n",
    "\n"
   ]
  },
  {
   "cell_type": "code",
   "execution_count": null,
   "metadata": {},
   "outputs": [
    {
     "name": "stdout",
     "output_type": "stream",
     "text": [
      "Prompt: What is 551368 divided by 82?\n",
      "Extracted Expression: 551368 / 82\n",
      "Answer: 6724\n",
      "\n",
      "Prompt: I want to multiply 2 and 82\n",
      "Extracted Expression: 2 * 82\n",
      "Answer: 164\n",
      "\n",
      "Prompt: Please add 10.5 plus 2.3\n",
      "Extracted Expression: 10.5 + 2.3\n",
      "Answer: 12.8\n",
      "\n",
      "Prompt: Subtract 20 from 100\n",
      "Extracted Expression: 20 - 100\n",
      "Answer: -80\n",
      "\n",
      "Prompt: I want to multiply 2 and 12 minus 10\n",
      "Extracted Expression: 2 * 12\n",
      "Answer: 24\n",
      "\n"
     ]
    }
   ],
   "source": [
    "# Example usage:\n",
    "prompts = [\n",
    "    \"What is 551368 divided by 82?\",\n",
    "    \"I want to multiply 2 and 82\",\n",
    "    \"Please add 10.5 plus 2.3\",\n",
    "    \"Subtract 20 from 100\",\n",
    "    \"I want to multiply 2 and 12 minus 10 power 2\"\n",
    "]\n",
    "\n",
    "for prompt in prompts:\n",
    "    try:\n",
    "        expression = prompt_to_expression(prompt)\n",
    "        result_value = eval(expression)\n",
    "        # If the result is a float that is effectively an integer, cast it.\n",
    "        if result_value == int(result_value):\n",
    "            result_value = int(result_value)\n",
    "        print(f\"Prompt: {prompt}\")\n",
    "        print(f\"Extracted Expression: {expression}\")\n",
    "        print(f\"Answer: {result_value}\\n\")\n",
    "    except ValueError as e:\n",
    "        print(f\"Error processing prompt: {prompt}\\n{e}\\n\")\n"
   ]
  },
  {
   "cell_type": "markdown",
   "metadata": {},
   "source": [
    "#### above solution is failed to express math equation with more that two parameters"
   ]
  },
  {
   "cell_type": "code",
   "execution_count": 8,
   "metadata": {},
   "outputs": [],
   "source": [
    "import re\n",
    "\n",
    "def parse_math_prompt(prompt: str) -> str:\n",
    "    \"\"\"\n",
    "    Convert a natural language math prompt into a valid arithmetic expression.\n",
    "    \n",
    "    This function applies a series of regex substitutions to handle common\n",
    "    phrases for operations (multiplication, division, addition, subtraction, power)\n",
    "    and then cleans up extra words.\n",
    "    \n",
    "    For example:\n",
    "      \"I want to multiply 2 and 12 minus 10 power 2\"\n",
    "    becomes:\n",
    "      \"2 * 12 - 10 ** 2\"\n",
    "    \n",
    "    Args:\n",
    "        prompt (str): The natural language prompt.\n",
    "    \n",
    "    Returns:\n",
    "        str: A string that is a valid arithmetic expression.\n",
    "    \"\"\"\n",
    "    # Standardize the input to lowercase.\n",
    "    text = prompt.lower()\n",
    "    \n",
    "    # Replace exponentiation phrases first.\n",
    "    # Handles phrases like \"10 power 2\" or \"10 to the power of 2\"\n",
    "    text = re.sub(r'(\\d+(?:\\.\\d+)?)\\s+(?:power|to the power of)\\s+(\\d+(?:\\.\\d+)?)', r'\\1 ** \\2', text)\n",
    "    \n",
    "    # Replace multiplication phrases.\n",
    "    # e.g., \"multiply 2 and 12\" or \"multiplied by\"\n",
    "    text = re.sub(r'multiply\\s+(\\d+(?:\\.\\d+)?)(?:\\s+and\\s+|\\s+)(\\d+(?:\\.\\d+)?)', r'\\1 * \\2', text)\n",
    "    text = re.sub(r'multiplied\\s+by', '*', text)\n",
    "    \n",
    "    # Replace division phrases.\n",
    "    text = re.sub(r'(\\d+(?:\\.\\d+)?)\\s+divided\\s+by\\s+(\\d+(?:\\.\\d+)?)', r'\\1 / \\2', text)\n",
    "    text = re.sub(r'divide\\s+(\\d+(?:\\.\\d+)?)(?:\\s+by\\s+)(\\d+(?:\\.\\d+)?)', r'\\1 / \\2', text)\n",
    "    \n",
    "    # Replace addition phrases.\n",
    "    text = re.sub(r'add\\s+(\\d+(?:\\.\\d+)?)(?:\\s+and\\s+|\\s+)(\\d+(?:\\.\\d+)?)', r'\\1 + \\2', text)\n",
    "    text = re.sub(r'plus', '+', text)\n",
    "    \n",
    "    # Replace subtraction phrases.\n",
    "    # e.g., \"12 minus 10\" and also handle \"subtract 10 from 12\" (which becomes \"12 - 10\")\n",
    "    text = re.sub(r'(\\d+(?:\\.\\d+)?)\\s+minus\\s+(\\d+(?:\\.\\d+)?)', r'\\1 - \\2', text)\n",
    "    text = re.sub(r'subtract\\s+(\\d+(?:\\.\\d+)?)(?:\\s+from\\s+)(\\d+(?:\\.\\d+)?)', r'\\2 - \\1', text)\n",
    "    \n",
    "    # Remove common filler words.\n",
    "    fillers = [\"i want to\", \"what is\", \"calculate\", \"please\"]\n",
    "    for filler in fillers:\n",
    "        text = text.replace(filler, \"\")\n",
    "    \n",
    "    # Remove leftover instances of \"and\" (which might be used as a conjunction).\n",
    "    text = text.replace(\"and\", \"\")\n",
    "    \n",
    "    # Clean up extra whitespace.\n",
    "    expression = \" \".join(text.split())\n",
    "    \n",
    "    return expression\n",
    "\n"
   ]
  },
  {
   "cell_type": "code",
   "execution_count": 14,
   "metadata": {},
   "outputs": [
    {
     "name": "stdout",
     "output_type": "stream",
     "text": [
      "Extracted Expression: 2 * 5 ** 2\n",
      "Answer: 50\n"
     ]
    }
   ],
   "source": [
    "# Example prompt with more than two operations:\n",
    "prompt = \"I want to multiply 2 and 12 minus 10 power 2\"\n",
    "prompt = \"I want to multiply 2 and 5 power 2\"\n",
    "expression = parse_math_prompt(prompt)\n",
    "print(\"Extracted Expression:\", expression)  # Expected: \"2 * 12 - 10 ** 2\"\n",
    "\n",
    "# Evaluate the expression using Python's eval.\n",
    "result_value = eval(expression)\n",
    "\n",
    "# Round the result to 2 decimal places if it's not an integer.\n",
    "if result_value != int(result_value):\n",
    "    result_value = round(result_value, 2)\n",
    "else:\n",
    "    result_value = int(result_value)\n",
    "\n",
    "print(f\"Answer: {result_value}\")  # For \"2 * 12 - 10 ** 2\", expected output: Answer: -76\n"
   ]
  },
  {
   "cell_type": "code",
   "execution_count": null,
   "metadata": {},
   "outputs": [],
   "source": []
  }
 ],
 "metadata": {
  "kernelspec": {
   "display_name": ".venv",
   "language": "python",
   "name": "python3"
  },
  "language_info": {
   "codemirror_mode": {
    "name": "ipython",
    "version": 3
   },
   "file_extension": ".py",
   "mimetype": "text/x-python",
   "name": "python",
   "nbconvert_exporter": "python",
   "pygments_lexer": "ipython3",
   "version": "3.12.4"
  }
 },
 "nbformat": 4,
 "nbformat_minor": 2
}
