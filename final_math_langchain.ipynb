{
 "cells": [
  {
   "cell_type": "code",
   "execution_count": 1,
   "metadata": {},
   "outputs": [],
   "source": [
    "from IPython.core.display import HTML"
   ]
  },
  {
   "cell_type": "code",
   "execution_count": 2,
   "metadata": {},
   "outputs": [
    {
     "name": "stderr",
     "output_type": "stream",
     "text": [
      "/tmp/ipykernel_9795/4093896791.py:4: LangChainDeprecationWarning: The class `Ollama` was deprecated in LangChain 0.3.1 and will be removed in 1.0.0. An updated version of the class exists in the :class:`~langchain-ollama package and should be used instead. To use it run `pip install -U :class:`~langchain-ollama` and import as `from :class:`~langchain_ollama import OllamaLLM``.\n",
      "  llm = Ollama(model=\"phi4:latest\", base_url=\"http://127.0.0.1:11434\")\n"
     ]
    }
   ],
   "source": [
    "from langchain_community.llms import Ollama\n",
    "\n",
    "# Specify the remote server's URL\n",
    "llm = Ollama(model=\"phi4:latest\", base_url=\"http://127.0.0.1:11434\")"
   ]
  },
  {
   "cell_type": "code",
   "execution_count": 3,
   "metadata": {},
   "outputs": [
    {
     "data": {
      "text/plain": [
       "'Hello! How can I assist you today?'"
      ]
     },
     "execution_count": 3,
     "metadata": {},
     "output_type": "execute_result"
    }
   ],
   "source": [
    "llm.invoke('hi')"
   ]
  },
  {
   "cell_type": "code",
   "execution_count": 4,
   "metadata": {},
   "outputs": [
    {
     "data": {
      "text/plain": [
       "'سلام! تازه\\u200cای اگر به خیر هستم، روزتون چطور است؟ اگر کاری دارید یا سوالی بخواهید پرسید، خوشحال می\\u200cشوم که در معرض شما باشم.'"
      ]
     },
     "execution_count": 4,
     "metadata": {},
     "output_type": "execute_result"
    }
   ],
   "source": [
    "llm.invoke('سلام. خوبی؟')"
   ]
  },
  {
   "cell_type": "code",
   "execution_count": 5,
   "metadata": {},
   "outputs": [],
   "source": [
    "from langchain.chains import LLMMathChain\n",
    "\n",
    "llm_math = LLMMathChain.from_llm(llm, verbose=True)"
   ]
  },
  {
   "cell_type": "code",
   "execution_count": 6,
   "metadata": {},
   "outputs": [
    {
     "data": {
      "text/plain": [
       "'Translate a math problem into a expression that can be executed using Python\\'s numexpr library. Use the output of running this code to answer the question.\\n\\nQuestion: ${{Question with math problem.}}\\n```text\\n${{single line mathematical expression that solves the problem}}\\n```\\n...numexpr.evaluate(text)...\\n```output\\n${{Output of running the code}}\\n```\\nAnswer: ${{Answer}}\\n\\nBegin.\\n\\nQuestion: What is 37593 * 67?\\n```text\\n37593 * 67\\n```\\n...numexpr.evaluate(\"37593 * 67\")...\\n```output\\n2518731\\n```\\nAnswer: 2518731\\n\\nQuestion: 37593^(1/5)\\n```text\\n37593**(1/5)\\n```\\n...numexpr.evaluate(\"37593**(1/5)\")...\\n```output\\n8.222831614237718\\n```\\nAnswer: 8.222831614237718\\n\\nQuestion: {question}\\n'"
      ]
     },
     "execution_count": 6,
     "metadata": {},
     "output_type": "execute_result"
    }
   ],
   "source": [
    "llm_math.prompt.template"
   ]
  },
  {
   "cell_type": "code",
   "execution_count": 7,
   "metadata": {},
   "outputs": [],
   "source": [
    "# llm_math.run(\"what is 13 raised to the .3432 power?\")"
   ]
  },
  {
   "cell_type": "code",
   "execution_count": 8,
   "metadata": {},
   "outputs": [],
   "source": [
    "# i = 0\n",
    "# example_query = \"What is 551368 divided by 82\"\n",
    "# llm_math.invoke(example_query)"
   ]
  },
  {
   "cell_type": "code",
   "execution_count": 9,
   "metadata": {},
   "outputs": [
    {
     "name": "stderr",
     "output_type": "stream",
     "text": [
      "/tmp/ipykernel_9795/3434510964.py:22: LangChainDeprecationWarning: This class is deprecated and will be removed in langchain 1.0. See API reference for replacement: https://api.python.langchain.com/en/latest/chains/langchain.chains.llm_math.base.LLMMathChain.html\n",
      "  math_chain = LLMMathChain(llm=llm, prompt=custom_prompt, verbose = True)\n",
      "/home/mahdi/Math_LangChain/.venv/lib/python3.12/site-packages/langchain/chains/llm_math/base.py:175: UserWarning: Directly instantiating an LLMMathChain with an llm is deprecated. Please instantiate with llm_chain argument or using the from_llm class method.\n",
      "  warnings.warn(\n"
     ]
    },
    {
     "name": "stdout",
     "output_type": "stream",
     "text": [
      "\n",
      "\n",
      "\u001b[1m> Entering new LLMMathChain chain...\u001b[0m\n",
      "What is 551368 divided by 82?\u001b[32;1m\u001b[1;3mAnswer: 6724.39\u001b[0m\n",
      "\u001b[1m> Finished chain.\u001b[0m\n",
      "{'question': 'What is 551368 divided by 82?', 'answer': 'Answer: 6724.39'}\n"
     ]
    }
   ],
   "source": [
    "from langchain.chains import LLMMathChain\n",
    "from langchain.llms import Ollama\n",
    "from langchain.prompts import PromptTemplate\n",
    "\n",
    "# Create a custom prompt template to enforce the expected output.\n",
    "custom_prompt = PromptTemplate(\n",
    "    input_variables=[\"question\"],\n",
    "    template=(\n",
    "        \"You are a expert math solver. Solve the problem below and output only the final answer in the exact format:\\n\"\n",
    "        \"Answer: <result>\\n\\n\"\n",
    "        \"Do not include any explanation, commentary, or extra text.\\n\\n\"\n",
    "        \"Round the result with 2. For example,if the result is 5.6666666, make the result 5.66.\\n\\n\"\n",
    "        \"Problem: {question}\"\n",
    "    )\n",
    ")\n",
    "\n",
    "\n",
    "# Use your local Ollama model.\n",
    "llm = Ollama(model=\"phi4:latest\", base_url=\"http://127.0.0.1:11434\", temperature = 0)\n",
    "\n",
    "# Instantiate the math chain with the custom prompt.\n",
    "math_chain = LLMMathChain(llm=llm, prompt=custom_prompt, verbose = True)\n",
    "\n",
    "# Run the chain with the math problem.\n",
    "result = math_chain.invoke(\"What is 551368 divided by 82?\")\n",
    "# result = math_chain.invoke(\"What is 551121 divided by 82?\")\n",
    "# result = math_chain.invoke(\"What is (12 plus 18 minus 10) devide by 3?\")\n",
    "print(result)  # Expected output: Answer: 6724\n"
   ]
  },
  {
   "cell_type": "markdown",
   "metadata": {},
   "source": [
    "#### The correct answer is 6724.0 !!!!"
   ]
  },
  {
   "cell_type": "code",
   "execution_count": 10,
   "metadata": {},
   "outputs": [
    {
     "name": "stdout",
     "output_type": "stream",
     "text": [
      "LLMMathChain input keys: ['question']\n"
     ]
    }
   ],
   "source": [
    "print(\"LLMMathChain input keys:\", llm_math.input_keys)\n"
   ]
  },
  {
   "cell_type": "code",
   "execution_count": 11,
   "metadata": {},
   "outputs": [
    {
     "name": "stdout",
     "output_type": "stream",
     "text": [
      "Computed numeric result: 6724.0\n"
     ]
    }
   ],
   "source": [
    "import numexpr as ne\n",
    "computed_result = ne.evaluate(\"551368 / 82\")\n",
    "print(\"Computed numeric result:\", computed_result)\n"
   ]
  },
  {
   "cell_type": "markdown",
   "metadata": {},
   "source": [
    "## understand which formula is needed"
   ]
  },
  {
   "cell_type": "markdown",
   "metadata": {},
   "source": [
    "<h3>Using Router is a common and effective pattern in LangChain for handling multi-step workflows.</h3> \n",
    "\n",
    "<p>Using a router chain that outputs a structured dictionary—typically with keys like \"destination\" (to select the appropriate chain) and \"next_inputs\" (to pass along additional context or parameters)—helps separate the decision logic from the execution logic.</p>\n",
    "\n",
    "\n",
    "\n",
    "<h3>Here’s why this approach is beneficial:</h3>\n",
    "<ul>\n",
    "    <li><strong>Modularity: </strong> It decouples the routing logic from the individual chain implementations, allowing each chain to focus on its specific task.</li>\n",
    "    <li><strong>Scalability: </strong> You can easily add or modify destination chains without changing the overall structure.</li>\n",
    "    <li><strong>Clarity: </strong> The structured output makes it explicit which chain is being selected and what inputs will be passed along, which is useful for debugging and maintenance.</li>\n",
    "</ul>\n",
    "\n",
    "\n",
    "<p>This pattern is often recommended in LangChain examples and documentation for multi-step reasoning tasks.</p>"
   ]
  },
  {
   "cell_type": "markdown",
   "metadata": {},
   "source": [
    "### Input Libraries"
   ]
  },
  {
   "cell_type": "code",
   "execution_count": 12,
   "metadata": {},
   "outputs": [],
   "source": [
    "import json\n",
    "import re\n",
    "from langchain.schema import BaseOutputParser\n",
    "from langchain.chains.router.llm_router import LLMRouterChain\n",
    "from langchain.chains import LLMChain\n",
    "from langchain.prompts import PromptTemplate\n",
    "from langchain_community.llms import Ollama\n",
    "import math"
   ]
  },
  {
   "cell_type": "markdown",
   "metadata": {},
   "source": [
    "### Define LLM"
   ]
  },
  {
   "cell_type": "code",
   "execution_count": 13,
   "metadata": {},
   "outputs": [],
   "source": [
    "# Specify the remote server's URL\n",
    "llm = Ollama(model=\"phi4:latest\", base_url=\"http://127.0.0.1:11434\")"
   ]
  },
  {
   "cell_type": "markdown",
   "metadata": {},
   "source": [
    "### Define Output Parser for Router_Prompt"
   ]
  },
  {
   "cell_type": "code",
   "execution_count": 14,
   "metadata": {},
   "outputs": [],
   "source": [
    "# Custom Output Parser Definition\n",
    "\n",
    "def clean_keys(d: dict) -> dict:\n",
    "    new_d = {}\n",
    "    for key, value in d.items():\n",
    "        new_key = key.strip()\n",
    "        if new_key.startswith('\"') and new_key.endswith('\"'):\n",
    "            new_key = new_key[1:-1]\n",
    "        if isinstance(value, dict):\n",
    "            new_d[new_key] = clean_keys(value)\n",
    "        else:\n",
    "            new_d[new_key] = value\n",
    "    return new_d\n",
    "\n",
    "class CustomRouterOutputParser(BaseOutputParser):\n",
    "    def parse(self, text: str) -> dict:\n",
    "        # Extract the first JSON object from the text\n",
    "        match = re.search(r\"(\\{.*\\})\", text, re.DOTALL)\n",
    "        if not match:\n",
    "            raise ValueError(\"No JSON object found in text.\")\n",
    "        json_str = match.group(1)\n",
    "        try:\n",
    "            result = json.loads(json_str)\n",
    "        except json.JSONDecodeError as e:\n",
    "            raise ValueError(f\"Error decoding JSON: {json_str}\") from e\n",
    "        # Clean the keys to remove any extra quotes\n",
    "        result = clean_keys(result)\n",
    "        # Validate required keys\n",
    "        if \"destination\" not in result:\n",
    "            raise ValueError(\"Output JSON is missing the 'destination' key.\")\n",
    "        if \"next_inputs\" not in result:\n",
    "            raise ValueError(\"Output JSON is missing the 'next_inputs' key.\")\n",
    "        if not isinstance(result[\"next_inputs\"], dict):\n",
    "            raise ValueError(\"The 'next_inputs' key must be a dictionary.\")\n",
    "        if \"question\" not in result[\"next_inputs\"]:\n",
    "            raise ValueError(\"The 'next_inputs' dictionary must include the 'question' key.\")\n",
    "        return result\n",
    "\n",
    "    @property\n",
    "    def _type(self) -> str:\n",
    "        return \"custom_router_output_parser\"\n",
    "\n",
    "# Instantiate the custom output parser\n",
    "router_output_parser = CustomRouterOutputParser()"
   ]
  },
  {
   "cell_type": "markdown",
   "metadata": {},
   "source": [
    "### Routing Logic and Formula Chain"
   ]
  },
  {
   "cell_type": "code",
   "execution_count": 15,
   "metadata": {},
   "outputs": [],
   "source": [
    "\n",
    "# Router Prompt: Including new formulas\n",
    "\n",
    "router_prompt = PromptTemplate(\n",
    "    input_variables=[\"question\"],\n",
    "    template=(\n",
    "        \"You are a routing assistant. Given the following question, decide which formula chain to use and return a valid JSON object with exactly two keys:\\n\"\n",
    "        \"1. destination: one of 'score_calculation', 'interest_calculation', or 'loan_calculation'.\\n\"\n",
    "        \"   - Use 'score_calculation' for questions about calculating customer score. \\n\"\n",
    "        \"   - Use 'interest_calculation' for questions about calculating deposit interest. \\n\"\n",
    "        \"   - Use 'loan_calculation' for questions about calculating remaining money for loans.\\n\"\n",
    "        \"2. next_inputs: a dictionary that includes the key 'question' mapping to the original question text.\\n\"\n",
    "        \"For example, if the question is 'How do I calculate the customer score?', return:\\n\"\n",
    "        \"{{\\\"destination\\\": \\\"score_calculation\\\", \\\"next_inputs\\\": {{\\\"question\\\": \\\"How do I calculate the customer score?\\\"}}}}\\n\"\n",
    "        \"Now, answer for the question: {question}\"\n",
    "    ),\n",
    "    output_parser=router_output_parser\n",
    ")\n"
   ]
  },
  {
   "cell_type": "markdown",
   "metadata": {},
   "source": [
    "### Formula Chain --> Core of Calculations"
   ]
  },
  {
   "cell_type": "code",
   "execution_count": 16,
   "metadata": {},
   "outputs": [
    {
     "name": "stderr",
     "output_type": "stream",
     "text": [
      "/tmp/ipykernel_9795/1172675544.py:23: LangChainDeprecationWarning: The class `LLMChain` was deprecated in LangChain 0.1.17 and will be removed in 1.0. Use :meth:`~RunnableSequence, e.g., `prompt | llm`` instead.\n",
      "  score_calculation_chain = LLMChain(llm=llm, prompt=score_calculation_prompt, verbose=True)\n"
     ]
    }
   ],
   "source": [
    "\n",
    "# Create Formula Chains for Each Task/Formula\n",
    "\n",
    "\n",
    "# Formula 1: Customer Score Calculation\n",
    "score_calculation_prompt = PromptTemplate(\n",
    "    input_variables=[\"question\"],\n",
    "    template=(\n",
    "        \"Customer Score Calculation:\\n\"\n",
    "        \"For the question: {question}, please calculate the customer's score using the following formula:\\n\\n\"\n",
    "        \"    score = math.sqrt(amount_of_income * month_of_income) - ((years_in_bank)**3 / age)\\n\\n\"\n",
    "        \"Where:\\n\"\n",
    "        \"  - amount_of_income: The total income amount of the customer.\\n\"\n",
    "        \"  - month_of_income: The number of months corresponding to the income period (e.g., 12 for one year).\\n\"\n",
    "        \"  - years_in_bank: The number of years the customer has held an account with our bank.\\n\"\n",
    "        \"  - age: The age of the customer.\\n\\n\"\n",
    "        \"Provide only the arithmetic expression (without additional explanation) in a format that is compatible with Python's eval().\\n\"\n",
    "        \"For example, if amount_of_income=5000, month_of_income=12, years_in_bank=10, and age=40, output:\\n\"\n",
    "        \"    math.sqrt(5000 * 12) - ((10)**3 / 40)\"\n",
    "    )\n",
    ")\n",
    "\n",
    "\n",
    "score_calculation_chain = LLMChain(llm=llm, prompt=score_calculation_prompt, verbose=True)\n",
    "\n",
    "# Formula 2: Deposit Interest Calculation\n",
    "interest_calculation_prompt = PromptTemplate(\n",
    "    input_variables=[\"question\"],\n",
    "    template=(\n",
    "        \"Deposit Interest Calculation:\\n\"\n",
    "        \"For the question: {question}, calculate the deposit interest using the formula:\\n\"\n",
    "        \"    interest = ((deposit_amount * months) / 12) * 0.25\\n\"\n",
    "        \"where 'deposit_amount' is the amount of money deposited and 'months' is the number of months the money has been deposited.\\n\"\n",
    "        \"Provide only the arithmetic expression that calculates the interest.\\n\"\n",
    "        \"For example, if deposit_amount=2000000 and months=9, output something like: ((2000000 * 9)/12)*0.25\"\n",
    "    )\n",
    ")\n",
    "interest_calculation_chain = LLMChain(llm=llm, prompt=interest_calculation_prompt, verbose=True)\n",
    "\n",
    "# Formula 3: Loan Calculation Chain (unchanged)\n",
    "loan_calculation_prompt = PromptTemplate(\n",
    "    input_variables=[\"question\"],\n",
    "    template=(\n",
    "        \"Loan Calculation Expert:\\n\"\n",
    "        \"For the question: {question}, please calculate the amount of money required to pay off all loans using the following formula:\\n\\n\"\n",
    "        \"    amount_to_pay = total_amount - (number_of_paid_loans * amount_per_loan)\\n\\n\"\n",
    "        \"Where:\\n\"\n",
    "        \"  - total_amount: The total amount of money owed on all loans.\\n\"\n",
    "        \"  - number_of_paid_loans: The number of loans that have already been paid off.\\n\"\n",
    "        \"  - amount_per_loan: The fixed payment amount for each paid loan.\\n\\n\"\n",
    "        \"Provide only the arithmetic expression (without any additional explanation) that calculates amount_to_pay.\\n\"\n",
    "        \"For example, if total_amount=2000000, number_of_paid_loans=9, and amount_per_loan=200, output:\\n\"\n",
    "        \"    2000000 - (9 * 200)\"\n",
    "    )\n",
    ")\n",
    "\n",
    "loan_calculation_chain = LLMChain(llm=llm, prompt=loan_calculation_prompt, verbose=True)\n"
   ]
  },
  {
   "cell_type": "markdown",
   "metadata": {},
   "source": [
    "### Create Router Chain According to Router_Prompt and Destination_Chain"
   ]
  },
  {
   "cell_type": "code",
   "execution_count": 17,
   "metadata": {},
   "outputs": [],
   "source": [
    "# Create the Router Chain with the Three Destination Chains\n",
    "\n",
    "destination_chains = {\n",
    "    \"score_calculation\": score_calculation_chain,\n",
    "    \"interest_calculation\": interest_calculation_chain,\n",
    "    \"loan_calculation\": loan_calculation_chain,\n",
    "}\n",
    "\n",
    "router_chain = LLMRouterChain.from_llm(\n",
    "    llm=llm,\n",
    "    prompt=router_prompt,\n",
    "    destination_chains=destination_chains\n",
    ")"
   ]
  },
  {
   "cell_type": "markdown",
   "metadata": {},
   "source": [
    "### Examples"
   ]
  },
  {
   "cell_type": "code",
   "execution_count": 7,
   "metadata": {},
   "outputs": [
    {
     "name": "stderr",
     "output_type": "stream",
     "text": [
      "/tmp/ipykernel_7454/3651798248.py:6: LangChainDeprecationWarning: The method `Chain.__call__` was deprecated in langchain 0.1.0 and will be removed in 1.0. Use :meth:`~invoke` instead.\n",
      "  router_result1 = router_chain({\"question\": input_text1})\n"
     ]
    },
    {
     "name": "stdout",
     "output_type": "stream",
     "text": [
      "Router output for customer score: {'question': 'How do I calculate the customer score?', 'destination': 'score_calculation', 'next_inputs': {'question': 'How do I calculate the customer score?'}}\n",
      "\n",
      "\n",
      "\u001b[1m> Entering new LLMChain chain...\u001b[0m\n",
      "Prompt after formatting:\n",
      "\u001b[32;1m\u001b[1;3mCustomer Score Calculation:\n",
      "For the question: How do I calculate the customer score?, calculate the customer's score using the formula:\n",
      "    score = log((years_in_bank)^3) / age\n",
      "where 'years_in_bank' is the number of years the customer has had an account in our bank, and 'age' is the customer's age.\n",
      "Explain the calculation step by step.\u001b[0m\n",
      "\n",
      "\u001b[1m> Finished chain.\u001b[0m\n",
      "Final result from 'score_calculation': {'question': 'How do I calculate the customer score?', 'text': \"To calculate the customer score using the provided formula:\\n\\n\\\\[ \\\\text{score} = \\\\frac{\\\\log((\\\\text{years\\\\_in\\\\_bank})^3)}{\\\\text{age}} \\\\]\\n\\nwe will go through each step of the calculation process.\\n\\n### Step 1: Identify Variables\\n\\n- **Years in Bank**: This is the number of years the customer has had an account with your bank.\\n- **Age**: This is the customer's age.\\n\\nThese values need to be known before proceeding with the calculation.\\n\\n### Step 2: Calculate \\\\((\\\\text{years\\\\_in\\\\_bank})^3\\\\)\\n\\nFirst, take the number of years the customer has been in the bank and raise it to the power of three. This emphasizes longer relationships with the bank by exponentially increasing their impact on the score.\\n\\n\\\\[ (\\\\text{years\\\\_in\\\\_bank})^3 \\\\]\\n\\n### Step 3: Take the Logarithm\\n\\nNext, calculate the natural logarithm (base \\\\(e\\\\)) of the result from step 2. The logarithmic function is used here to scale down the potentially large numbers and ensure that the score grows more slowly as years in the bank increase.\\n\\n\\\\[ \\\\log((\\\\text{years\\\\_in\\\\_bank})^3) \\\\]\\n\\n### Step 4: Divide by Age\\n\\nFinally, divide the result from step 3 by the customer's age. This division adjusts for the fact that older customers naturally have had more time to accumulate banking years and ensures that younger customers with longer relationships are not unduly penalized.\\n\\n\\\\[ \\\\text{score} = \\\\frac{\\\\log((\\\\text{years\\\\_in\\\\_bank})^3)}{\\\\text{age}} \\\\]\\n\\n### Step 5: Interpret the Result\\n\\nThe resulting score is a metric reflecting both loyalty (as indicated by years in the bank) and age. A higher score suggests a strong relationship with the bank relative to the customer's age.\\n\\n### Example Calculation:\\n\\nLet's assume a customer has been with the bank for 10 years and is 40 years old.\\n\\n1. **Years in Bank**: 10\\n2. **Age**: 40\\n\\n- Calculate \\\\((\\\\text{years\\\\_in\\\\_bank})^3 = 10^3 = 1000\\\\)\\n- Take the logarithm: \\\\(\\\\log(1000) \\\\approx 6.9078\\\\) (using natural log)\\n- Divide by age: \\\\(\\\\frac{6.9078}{40} \\\\approx 0.1727\\\\)\\n\\nThe customer's score would be approximately \\\\(0.1727\\\\).\\n\\nThis step-by-step process allows you to consistently calculate the score for any given customer using their years in the bank and their age.\"}\n"
     ]
    }
   ],
   "source": [
    "# Example Usage: Testing Different Questions\n",
    "\n",
    "\n",
    "# 1. Customer Score Calculation Question (Formula 1)\n",
    "input_text1 = \"How do I calculate the customer score?\"\n",
    "router_result1 = router_chain({\"question\": input_text1})\n",
    "print(\"Router output for customer score:\", router_result1)\n",
    "destination1 = router_result1[\"destination\"]\n",
    "next_inputs1 = router_result1[\"next_inputs\"]\n",
    "if destination1 in destination_chains:\n",
    "    final_result1 = destination_chains[destination1](next_inputs1)\n",
    "    print(f\"Final result from '{destination1}':\", final_result1)\n",
    "else:\n",
    "    print(\"Destination not found:\", destination1)\n"
   ]
  },
  {
   "cell_type": "code",
   "execution_count": 8,
   "metadata": {},
   "outputs": [
    {
     "name": "stderr",
     "output_type": "stream",
     "text": [
      "/tmp/ipykernel_7293/1000696705.py:4: LangChainDeprecationWarning: The method `Chain.__call__` was deprecated in langchain 0.1.0 and will be removed in 1.0. Use :meth:`~invoke` instead.\n",
      "  router_result2 = router_chain({\"question\": input_text2})\n"
     ]
    },
    {
     "name": "stdout",
     "output_type": "stream",
     "text": [
      "Router output for deposit interest: {'question': 'من میخوام ببینم سود سپرده بانک اگه ۵۰۰ میلیون پول بخوابونم چقدره', 'destination': 'interest_calculation', 'next_inputs': {'question': 'من میخوام ببینم سود سپرده بانک اگه ۵۰۰ میلیون پول بخوابونم چقدره'}}\n",
      "destination2 interest_calculation\n",
      "next_input2 {'question': 'من میخوام ببینم سود سپرده بانک اگه ۵۰۰ میلیون پول بخوابونم چقدره'}\n",
      "\n",
      "\n",
      "\u001b[1m> Entering new LLMChain chain...\u001b[0m\n",
      "Prompt after formatting:\n",
      "\u001b[32;1m\u001b[1;3mDeposit Interest Calculation:\n",
      "For the question: من میخوام ببینم سود سپرده بانک اگه ۵۰۰ میلیون پول بخوابونم چقدره, calculate the deposit interest using the formula:\n",
      "    interest = ((deposit_amount * months) / 12) * 0.25\n",
      "where 'deposit_amount' is the amount of money deposited and 'months' is the number of months the money has been deposited.\n",
      "Explain the calculation step by step.\u001b[0m\n",
      "\n",
      "\u001b[1m> Finished chain.\u001b[0m\n",
      "destination_chain2 = verbose=True prompt=PromptTemplate(input_variables=['question'], input_types={}, partial_variables={}, template=\"Deposit Interest Calculation:\\nFor the question: {question}, calculate the deposit interest using the formula:\\n    interest = ((deposit_amount * months) / 12) * 0.25\\nwhere 'deposit_amount' is the amount of money deposited and 'months' is the number of months the money has been deposited.\\nExplain the calculation step by step.\") llm=Ollama(base_url='http://127.0.0.1:11434', model='phi4:latest') output_parser=StrOutputParser() llm_kwargs={}\n",
      "Final result from 'interest_calculation': {'question': 'من میخوام ببینم سود سپرده بانک اگه ۵۰۰ میلیون پول بخوابونم چقدره', 'text': 'To calculate the deposit interest using the given formula, let\\'s break it down step-by-step:\\n\\n### Formula:\\n\\\\[ \\\\text{interest} = \\\\left( \\\\frac{\\\\text{deposit\\\\_amount} \\\\times \\\\text{months}}{12} \\\\right) \\\\times 0.25 \\\\]\\n\\n### Given:\\n- **Deposit Amount**: 500 million (or 500,000,000)\\n- **Months**: Let\\'s assume a specific number of months for this calculation. For example, let\\'s use 12 months.\\n\\n### Steps:\\n\\n1. **Multiply the Deposit Amount by Months**:\\n   - Calculate \\\\( \\\\text{deposit\\\\_amount} \\\\times \\\\text{months} \\\\).\\n   - Example: \\\\( 500,000,000 \\\\times 12 = 6,000,000,000 \\\\).\\n\\n2. **Divide by 12 to Annualize**:\\n   - Divide the result from step 1 by 12 to convert it into an annual figure.\\n   - Example: \\\\( \\\\frac{6,000,000,000}{12} = 500,000,000 \\\\).\\n\\n3. **Apply the Interest Rate (25%)**:\\n   - Multiply the result from step 2 by 0.25 to find the interest earned over the period.\\n   - Example: \\\\( 500,000,000 \\\\times 0.25 = 125,000,000 \\\\).\\n\\n### Conclusion:\\nFor a deposit of 500 million over 12 months at an annual interest rate of 25%, the interest earned would be 125 million.\\n\\nIf you want to calculate for a different number of months, simply replace \"months\" with your desired value and follow the same steps.'}\n"
     ]
    }
   ],
   "source": [
    "# 2. Deposit Interest Calculation Question (Formula 2)\n",
    "# input_text2 = \"How do I calculate the deposit interest?\"\n",
    "input_text2 = \"من میخوام ببینم سود سپرده بانک اگه ۵۰۰ میلیون پول بخوابونم چقدره\"\n",
    "router_result2 = router_chain({\"question\": input_text2})\n",
    "print(\"Router output for deposit interest:\", router_result2)\n",
    "destination2 = router_result2[\"destination\"]\n",
    "print(f\"destination2 {destination2}\")\n",
    "next_inputs2 = router_result2[\"next_inputs\"]\n",
    "print(f\"next_input2 {next_inputs2}\")\n",
    "if destination2 in destination_chains:\n",
    "    final_result2 = destination_chains[destination2](next_inputs2)\n",
    "    print(f\"destination_chain2 = {destination_chains[destination2]}\")\n",
    "    print(f\"Final result from '{destination2}':\", final_result2)\n",
    "else:\n",
    "    print(\"Destination not found:\", destination2)"
   ]
  },
  {
   "cell_type": "code",
   "execution_count": 7,
   "metadata": {},
   "outputs": [
    {
     "name": "stderr",
     "output_type": "stream",
     "text": [
      "/tmp/ipykernel_395243/1638354673.py:4: LangChainDeprecationWarning: The method `Chain.__call__` was deprecated in langchain 0.1.0 and will be removed in 1.0. Use :meth:`~invoke` instead.\n",
      "  router_result3 = router_chain({\"question\": input_text3})\n"
     ]
    },
    {
     "name": "stdout",
     "output_type": "stream",
     "text": [
      "Router output for loan calculation: {'question': 'How was the weather testerday?', 'destination': None, 'next_inputs': {'question': 'How was the weather yesterday?'}}\n",
      "Destination not found: None\n"
     ]
    }
   ],
   "source": [
    "# 3. Loan Calculation Question (Loan Calculation)\n",
    "# input_text3 = \"How much money should I pay to pay all my loans to the bank?\"\n",
    "input_text3 = \"How was the weather testerday?\"\n",
    "router_result3 = router_chain({\"question\": input_text3})\n",
    "print(\"Router output for loan calculation:\", router_result3)\n",
    "destination3 = router_result3[\"destination\"]\n",
    "next_inputs3 = router_result3[\"next_inputs\"]\n",
    "if destination3 in destination_chains:\n",
    "    final_result3 = destination_chains[destination3](next_inputs3)\n",
    "    print(f\"Final result from '{destination3}':\", final_result3)\n",
    "else:\n",
    "    print(\"Destination not found:\", destination3)"
   ]
  },
  {
   "cell_type": "markdown",
   "metadata": {},
   "source": [
    "### Try to use python codes instead of mathchain to solve mathematics part"
   ]
  },
  {
   "cell_type": "markdown",
   "metadata": {},
   "source": [
    "#### Consider to get missing parameters"
   ]
  },
  {
   "cell_type": "markdown",
   "metadata": {},
   "source": [
    "## Get missing params from user"
   ]
  },
  {
   "cell_type": "code",
   "execution_count": 18,
   "metadata": {},
   "outputs": [],
   "source": [
    "# Define required parameters for each formula destination.\n",
    "formula_required_params = {\n",
    "    \"interest_calculation\": [\"deposit_amount\", \"months\"],\n",
    "    \"loan_calculation\": [\"total_amount\", \"number_of_paid_loans\", \"amount_per_loan\"],\n",
    "    \"score_calculation\": [\"amount_of_income\", \"month_of_income\",\"years_in_bank\", \"age\"]\n",
    "}"
   ]
  },
  {
   "cell_type": "code",
   "execution_count": 19,
   "metadata": {},
   "outputs": [],
   "source": [
    "def extract_parameters_generic(prompt: str, required_params: list) -> dict:\n",
    "    \n",
    "    extracted = {}\n",
    "    numbers = re.findall(r\"([\\d,\\.]+)\", prompt)\n",
    "    # Remove commas\n",
    "    numbers = [num.replace(',', '') for num in numbers]\n",
    "    for i, param in enumerate(required_params):\n",
    "        if i < len(numbers):\n",
    "            try:\n",
    "                extracted[param] = float(numbers[i])\n",
    "            except ValueError:\n",
    "                pass\n",
    "    return extracted"
   ]
  },
  {
   "cell_type": "code",
   "execution_count": 20,
   "metadata": {},
   "outputs": [],
   "source": [
    "def get_missing_parameters(required_params: list, provided: dict) -> list:\n",
    "    return [p for p in required_params if p not in provided]"
   ]
  },
  {
   "cell_type": "code",
   "execution_count": 21,
   "metadata": {},
   "outputs": [],
   "source": [
    "def extract_arithmetic_expression(text: str) -> str:\n",
    "\n",
    "    # Look for a LaTeX math block: \\[ ... \\]\n",
    "    latex_match = re.search(r\"\\\\\\[(.*?)\\\\\\]\", text, re.DOTALL)\n",
    "    if latex_match:\n",
    "        expr = latex_match.group(1)\n",
    "        # Remove newline characters and extra spaces.\n",
    "        expr = expr.replace(\"\\n\", \" \").strip()\n",
    "        # Remove any \\text{...} wrappers.\n",
    "        expr = re.sub(r\"\\\\text\\{(.*?)\\}\", r\"\\1\", expr)\n",
    "        # If there's an equals sign, take only the part after it.\n",
    "        if \"=\" in expr:\n",
    "            expr = expr.split(\"=\", 1)[1].strip()\n",
    "        # Replace LaTeX \\times with Python's *\n",
    "        expr = expr.replace(r\"\\times\", \"*\")\n",
    "        # Remove extra curly braces.\n",
    "        expr = expr.replace(\"{\", \"\").replace(\"}\", \"\")\n",
    "        # Remove backslashes preceding underscores.\n",
    "        expr = re.sub(r\"\\\\_\", \"_\", expr)\n",
    "        return expr\n",
    "\n",
    "    # Fallback: search for a line that looks like an arithmetic expression.\n",
    "    for line in text.splitlines():\n",
    "        line = line.strip()\n",
    "        # A simple heuristic: line contains numbers, letters, and arithmetic operators.\n",
    "        if re.match(r\"^[\\d\\w\\.\\+\\-\\*/\\(\\)\\s]+$\", line):\n",
    "            return line\n",
    "    # If nothing seems to match, return the original text.\n",
    "    return text\n"
   ]
  },
  {
   "cell_type": "markdown",
   "metadata": {},
   "source": [
    "### Example"
   ]
  },
  {
   "cell_type": "code",
   "execution_count": 36,
   "metadata": {},
   "outputs": [],
   "source": [
    "# user_input = \"من میخوام ببینم سود سپرده بانک اگه 500000000 پول بخوابونم چقدره\"\n",
    "# user_input = \"How do I calculate my customer score in this bank?\"\n",
    "user_input = \"من ۳ ساله که توی بانک حساب دارم. درآمد من معادل ۵۵۰۰ میلیون تومانه. امتیاز من در بانک چقدر میشه؟\"\n",
    "# user_input = \"I have account in the back for 3 years. My income is 4500 M Tomans. How much is my score?\"\n",
    "# user_input = \"How much money should I pay to pay all my loans to the bank?\""
   ]
  },
  {
   "cell_type": "code",
   "execution_count": 38,
   "metadata": {},
   "outputs": [
    {
     "name": "stdout",
     "output_type": "stream",
     "text": [
      "Router output: {'question': 'من ۳ ساله که توی بانک حساب دارم. درآمد من معادل ۵۵۰۰ میلیون تومانه. امتیاز من در بانک چقدر میشه؟', 'destination': 'score_calculation', 'next_inputs': {'question': 'من ۳ ساله که توی بانک حساب دارم. درآمد من معادل ۵۵۰۰ میلیون تومانه. امتیاز من در بانک چقدر میشه؟'}}\n",
      "Selected destination: score_calculation\n",
      "\n",
      "\n",
      "\u001b[1m> Entering new LLMChain chain...\u001b[0m\n",
      "Prompt after formatting:\n",
      "\u001b[32;1m\u001b[1;3mCustomer Score Calculation:\n",
      "For the question: من ۳ ساله که توی بانک حساب دارم. درآمد من معادل ۵۵۰۰ میلیون تومانه. امتیاز من در بانک چقدر میشه؟, please calculate the customer's score using the following formula:\n",
      "\n",
      "    score = math.sqrt(amount_of_income * month_of_income) - ((years_in_bank)**3 / age)\n",
      "\n",
      "Where:\n",
      "  - amount_of_income: The total income amount of the customer.\n",
      "  - month_of_income: The number of months corresponding to the income period (e.g., 12 for one year).\n",
      "  - years_in_bank: The number of years the customer has held an account with our bank.\n",
      "  - age: The age of the customer.\n",
      "\n",
      "Provide only the arithmetic expression (without additional explanation) in a format that is compatible with Python's eval().\n",
      "For example, if amount_of_income=5000, month_of_income=12, years_in_bank=10, and age=40, output:\n",
      "    math.sqrt(5000 * 12) - ((10)**3 / 40)\u001b[0m\n",
      "\n",
      "\u001b[1m> Finished chain.\u001b[0m\n",
      "Raw formula output from chain:\n",
      "```python\n",
      "math.sqrt(5500000000 * 12) - ((3)**3 / age)\n",
      "```\n",
      "Extracted arithmetic expression:\n",
      "math.sqrt(5500000000 * 12) - ((3)**3 / age)\n",
      "Required parameters: ['amount_of_income', 'month_of_income', 'years_in_bank', 'age']\n",
      "Provided parameters: {'amount_of_income': 3.0, 'years_in_bank': 5500.0}\n",
      "the value for month_of_income is 6\n",
      "the value for age is 38\n",
      "Final parameters for evaluation: {'amount_of_income': 3.0, 'years_in_bank': 5500.0, 'month_of_income': 6.0, 'age': 38.0}\n",
      "Answer: 256903.94\n"
     ]
    }
   ],
   "source": [
    "# Use the router chain to decide which formula chain to use.\n",
    "router_result = router_chain({\"question\": user_input})\n",
    "destination = router_result[\"destination\"]\n",
    "next_inputs = router_result[\"next_inputs\"]\n",
    "\n",
    "print(\"Router output:\", router_result)\n",
    "print(\"Selected destination:\", destination)\n",
    "\n",
    "# Check that the destination chain exists.\n",
    "if destination not in destination_chains:\n",
    "    raise ValueError(f\"Destination '{destination}' not found in destination chains.\")\n",
    "\n",
    "\n",
    "# Use the selected formula chain to get the arithmetic expression.\n",
    "chain_output = destination_chains[destination](next_inputs)\n",
    "if isinstance(chain_output, dict) and \"text\" in chain_output:\n",
    "    raw_formula_str = chain_output[\"text\"]\n",
    "else:\n",
    "    raw_formula_str = chain_output\n",
    "\n",
    "print(\"Raw formula output from chain:\")\n",
    "print(raw_formula_str)\n",
    "\n",
    "# Call the extraction function here to clean the formula.\n",
    "formula_str = extract_arithmetic_expression(raw_formula_str)\n",
    "print(\"Extracted arithmetic expression:\")\n",
    "print(formula_str)\n",
    "\n",
    "\n",
    "# Determine required parameters for the selected destination.\n",
    "required_params = formula_required_params.get(destination, [])\n",
    "print(\"Required parameters:\", required_params)\n",
    "\n",
    "# Extract any provided parameter values from the original question (or next_inputs[\"question\"])\n",
    "provided_params = extract_parameters_generic(next_inputs[\"question\"], required_params)\n",
    "print(\"Provided parameters:\", provided_params)\n",
    "\n",
    "# Identify any missing parameters and ask the user (here we use input() for demonstration).\n",
    "missing_params = get_missing_parameters(required_params, provided_params)\n",
    "if missing_params:\n",
    "    for param in missing_params:\n",
    "        value_str = input(f\"Please enter a value for {param}: \")\n",
    "        print(f\"the value for {param} is {value_str}\")\n",
    "        try:\n",
    "            provided_params[param] = float(value_str)\n",
    "        except ValueError:\n",
    "            raise ValueError(f\"Invalid value provided for {param}.\")\n",
    "\n",
    "print(\"Final parameters for evaluation:\", provided_params)\n",
    "\n",
    "\n",
    "# Add math to the provided parameters so eval() knows what math.sqrt is.\n",
    "provided_params['math'] = math\n",
    "\n",
    "# Now, evaluate the extracted formula using eval() with the parameters.\n",
    "try:\n",
    "    result_value = eval(formula_str, provided_params)\n",
    "except Exception as e:\n",
    "    raise RuntimeError(f\"Error evaluating the formula: {e}\")\n",
    "\n",
    "# Optionally, round the result to 2 decimal places.\n",
    "if isinstance(result_value, float) and result_value != int(result_value):\n",
    "    result_value = round(result_value, 2)\n",
    "else:\n",
    "    result_value = int(result_value)\n",
    "\n",
    "print(f\"Answer: {result_value}\")\n"
   ]
  },
  {
   "cell_type": "markdown",
   "metadata": {},
   "source": [
    "### **************  The above way is the final solution **************"
   ]
  }
 ],
 "metadata": {
  "kernelspec": {
   "display_name": ".venv",
   "language": "python",
   "name": "python3"
  },
  "language_info": {
   "codemirror_mode": {
    "name": "ipython",
    "version": 3
   },
   "file_extension": ".py",
   "mimetype": "text/x-python",
   "name": "python",
   "nbconvert_exporter": "python",
   "pygments_lexer": "ipython3",
   "version": "3.12.4"
  }
 },
 "nbformat": 4,
 "nbformat_minor": 2
}
